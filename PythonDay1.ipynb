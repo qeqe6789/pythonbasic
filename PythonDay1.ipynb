{
  "nbformat": 4,
  "nbformat_minor": 0,
  "metadata": {
    "colab": {
      "provenance": [],
      "authorship_tag": "ABX9TyMO9VsRh65yYtPW75QjF0Yf",
      "include_colab_link": true
    },
    "kernelspec": {
      "name": "python3",
      "display_name": "Python 3"
    },
    "language_info": {
      "name": "python"
    }
  },
  "cells": [
    {
      "cell_type": "markdown",
      "metadata": {
        "id": "view-in-github",
        "colab_type": "text"
      },
      "source": [
        "<a href=\"https://colab.research.google.com/github/qeqe6789/pythonbasic/blob/main/PythonDay1.ipynb\" target=\"_parent\"><img src=\"https://colab.research.google.com/assets/colab-badge.svg\" alt=\"Open In Colab\"/></a>"
      ]
    },
    {
      "cell_type": "code",
      "execution_count": null,
      "metadata": {
        "colab": {
          "base_uri": "https://localhost:8080/"
        },
        "id": "iBJMA7QTkWFc",
        "outputId": "2d1d6d42-4cbe-4dde-cdbc-d70517d4a3ef"
      },
      "outputs": [
        {
          "output_type": "stream",
          "name": "stdout",
          "text": [
            "Hello World 한글테스트\n"
          ]
        }
      ],
      "source": [
        "print(\"Hello World 한글테스트\")"
      ]
    },
    {
      "cell_type": "code",
      "source": [
        "# 정수형 자료형\n",
        "\n",
        "a = 100\n",
        "b = -123\n",
        "c = 0"
      ],
      "metadata": {
        "id": "uMfhxwNXBvA3"
      },
      "execution_count": null,
      "outputs": []
    },
    {
      "cell_type": "code",
      "source": [
        "# 실수형 자료형\n",
        "\n",
        "a = 3.14\n",
        "b = -5.16"
      ],
      "metadata": {
        "id": "nkDbULbCBzAR"
      },
      "execution_count": null,
      "outputs": []
    },
    {
      "cell_type": "code",
      "source": [
        "# 숫자형 자료형에서의 연산\n",
        "\n",
        "a = 3\n",
        "b = 4\n",
        "\n",
        "#코랩에서는 print를 생략해도 알아서 print()를 넣어준다.(마지막에만)\n",
        "a + b\n",
        "a - b"
      ],
      "metadata": {
        "colab": {
          "base_uri": "https://localhost:8080/"
        },
        "id": "mbwaATx9B1xB",
        "outputId": "b7ec2eee-0bbb-40bf-a821-3c05ceca5515"
      },
      "execution_count": null,
      "outputs": [
        {
          "output_type": "execute_result",
          "data": {
            "text/plain": [
              "-1"
            ]
          },
          "metadata": {},
          "execution_count": 6
        }
      ]
    },
    {
      "cell_type": "code",
      "source": [
        "a + b\n",
        "a - b\n",
        "print(a+b)\n",
        "print(a-b)\n",
        "\n",
        "#print()구문을 생략하면 마지막 구문만 출력해준다.\n",
        "#전부 출력하고 싶으면 각각 print() 적기(코랩의 특징)"
      ],
      "metadata": {
        "colab": {
          "base_uri": "https://localhost:8080/"
        },
        "id": "vSqb4OJgB9kd",
        "outputId": "c275e602-061d-400e-df4f-088d4484b703"
      },
      "execution_count": null,
      "outputs": [
        {
          "output_type": "stream",
          "name": "stdout",
          "text": [
            "7\n",
            "-1\n"
          ]
        }
      ]
    },
    {
      "cell_type": "code",
      "source": [
        "# 나머지 연산자 - 홀수 짝수 배수 확인\n",
        "5 / 2 #일반적이 나머지"
      ],
      "metadata": {
        "colab": {
          "base_uri": "https://localhost:8080/"
        },
        "id": "6j_KGWaJCLd3",
        "outputId": "5ebf6884-1bb4-421b-ac26-d7e5f6fa7b75"
      },
      "execution_count": null,
      "outputs": [
        {
          "output_type": "execute_result",
          "data": {
            "text/plain": [
              "2.5"
            ]
          },
          "metadata": {},
          "execution_count": 8
        }
      ]
    },
    {
      "cell_type": "code",
      "source": [
        "5 % 2\n",
        "\n",
        "# 나눈 결과의 몫은 버리고 나머지만\n",
        "# 2로 나눈 나머지가 0이면 짝수, 1이면 홀수"
      ],
      "metadata": {
        "colab": {
          "base_uri": "https://localhost:8080/"
        },
        "id": "MxK24MV3CQMW",
        "outputId": "2fbedecb-2f4b-462c-af74-634bba6a97fe"
      },
      "execution_count": null,
      "outputs": [
        {
          "output_type": "execute_result",
          "data": {
            "text/plain": [
              "1"
            ]
          },
          "metadata": {},
          "execution_count": 9
        }
      ]
    },
    {
      "cell_type": "code",
      "source": [
        "8 % 2"
      ],
      "metadata": {
        "colab": {
          "base_uri": "https://localhost:8080/"
        },
        "id": "apcXmQN7CWAV",
        "outputId": "cae2d065-d2a3-4514-cf6c-04465c8135ba"
      },
      "execution_count": null,
      "outputs": [
        {
          "output_type": "execute_result",
          "data": {
            "text/plain": [
              "0"
            ]
          },
          "metadata": {},
          "execution_count": 10
        }
      ]
    },
    {
      "cell_type": "code",
      "source": [
        "# 문자열 자료형 - 파이썬에서는 \"\"와 ''가 완전히 동일하게 사용\n",
        "\n",
        "# 1 큰 따옴표\n",
        "\"Hello World\"\n",
        "# 2 작은 따옴표\n",
        "'Hello World'\n",
        "\n",
        "# 3 3중따옴표 Doc String\n",
        "\"\"\"Hello World\"\"\"\n",
        "'''Hello World'''"
      ],
      "metadata": {
        "colab": {
          "base_uri": "https://localhost:8080/",
          "height": 36
        },
        "id": "02Nn9eybCpYM",
        "outputId": "45d1b1f2-2bb0-4d05-b500-c9d3f108fd76"
      },
      "execution_count": null,
      "outputs": [
        {
          "output_type": "execute_result",
          "data": {
            "text/plain": [
              "'Hello World'"
            ],
            "application/vnd.google.colaboratory.intrinsic+json": {
              "type": "string"
            }
          },
          "metadata": {},
          "execution_count": 11
        }
      ]
    },
    {
      "cell_type": "code",
      "source": [
        "#큰따옴표와 작은 따옴표에 전혀 차이가 없지만 아래의 용도로 분리하여 사용\n",
        "\"Python's\" #작은 따옴표 출력\n",
        "'say \"Hello\"' #큰 따옴표 출력"
      ],
      "metadata": {
        "colab": {
          "base_uri": "https://localhost:8080/",
          "height": 36
        },
        "id": "mb13b6VfC0YB",
        "outputId": "fd861e55-0c2b-4464-9f37-ebd83cbd2aa4"
      },
      "execution_count": null,
      "outputs": [
        {
          "output_type": "execute_result",
          "data": {
            "text/plain": [
              "'say \"Hello\"'"
            ],
            "application/vnd.google.colaboratory.intrinsic+json": {
              "type": "string"
            }
          },
          "metadata": {},
          "execution_count": 12
        }
      ]
    },
    {
      "cell_type": "code",
      "source": [
        "# \\n 줄바꿈\n",
        "a = \"I love you\\nYou love me?\"\n",
        "print(a)\n",
        "\n",
        "b = \"\"\"I love you\n",
        "You love me?\"\"\"\n",
        "print(b)\n",
        "\n",
        "#에러 발생\n",
        "# c= \"Ilove you\n",
        "# You love me\""
      ],
      "metadata": {
        "colab": {
          "base_uri": "https://localhost:8080/"
        },
        "id": "uv4uIuQuC_TO",
        "outputId": "5eea52a2-7504-42d0-af1d-4e435e2cc11b"
      },
      "execution_count": null,
      "outputs": [
        {
          "output_type": "stream",
          "name": "stdout",
          "text": [
            "I love you\n",
            "You love me?\n",
            "I love you\n",
            "You love me?\n"
          ]
        }
      ]
    },
    {
      "cell_type": "code",
      "source": [
        "#문자열 연산\n",
        "\n",
        "#파이썬에서는 문자열도 연산이 가능하다. 생각을 그대로 반영할 수 있다는 파이썬의 장점\n",
        "\n",
        "a = \"I \"\n",
        "b = \"love \"\n",
        "c = \"you\"\n",
        "\n",
        "print(a+b+c)\n",
        "\n",
        "d = \"love\"\n",
        "print(d*3)\n",
        "\n",
        "e = \"=\"\n",
        "print(e*30)"
      ],
      "metadata": {
        "colab": {
          "base_uri": "https://localhost:8080/"
        },
        "id": "DJapZWSZDL3k",
        "outputId": "22db8eac-315b-4c4d-cdb0-b176dabfc5c2"
      },
      "execution_count": null,
      "outputs": [
        {
          "output_type": "stream",
          "name": "stdout",
          "text": [
            "I love you\n",
            "lovelovelove\n",
            "==============================\n"
          ]
        }
      ]
    },
    {
      "cell_type": "code",
      "source": [
        "#인덱싱광 슬라이싱 Indexing & slicing\n",
        "# 참고로 인덱싱과 슬라이싱은 리스트와 튜플에서도 완전히 동일하게 사용\n",
        "\n",
        "# 인덱싱 - 한 개의 글자 추출\n",
        "a = 'I love you'\n",
        "print(a[0])\n",
        "print(a[9])\n",
        "print(a[-1]) # 마지막 글자 추출은 -1을 사용\n",
        "print(a[-3])\n",
        "\n",
        "#슬라이싱 - 여러개의 글자 추출\n",
        "a = 'I love you'\n",
        "print(a[2] + a[3] + a[4] + a[5])\n",
        "print(a[2:6]) #끝자리를 나타내는 수는 미만을 의미\n",
        "print(a[7:]) #끝자리를 생략하면 끝까지 출력\n",
        "print(a[:2]) # 시작자리를 생략하면 처음(0)부터 시작\n",
        "print(a[:]) # 모든 자리 생략하면 처음부터 끝까지 출력\n",
        "print(a[7:-1]) # 슬라이싱에서도 - 표기를 사용"
      ],
      "metadata": {
        "colab": {
          "base_uri": "https://localhost:8080/"
        },
        "id": "ZTJufRUZDcZP",
        "outputId": "44694462-164e-4a7f-bd7c-345fad2fe5ad"
      },
      "execution_count": null,
      "outputs": [
        {
          "output_type": "stream",
          "name": "stdout",
          "text": [
            "I\n",
            "u\n",
            "u\n",
            "y\n",
            "love\n",
            "love\n",
            "you\n",
            "I \n",
            "I love you\n",
            "yo\n"
          ]
        }
      ]
    },
    {
      "cell_type": "code",
      "source": [
        "# 파이썬에서 출력 방법 총 4가지\n",
        "\n",
        "# 1 문자열 포맷팅\n",
        "print(\"I %s you\" % \"love\")\n",
        "print(\"I ate %d apples\" % 5)\n",
        "print(\"I ate %s apples\" % 5)\n",
        "\n",
        "print(\"I %s you, I ate %s apples\" % (\"love\", 5))\n",
        "\n",
        "# 2 format() 포맷 함수\n",
        "print(\"I {} you\".format(\"love\"))\n",
        "print(\"I ate {} apples\".format(5))\n",
        "print(\"I ate {} apples\".format(5))\n",
        "\n",
        "print(\"I {} you, I ate {} apples\".format(\"love\",5))"
      ],
      "metadata": {
        "colab": {
          "base_uri": "https://localhost:8080/"
        },
        "id": "1YDlf8fMEAp1",
        "outputId": "9a899f21-d038-4a2a-b743-489133cbdb26"
      },
      "execution_count": null,
      "outputs": [
        {
          "output_type": "stream",
          "name": "stdout",
          "text": [
            "I love you\n",
            "I ate 5 apples\n",
            "I ate 5 apples\n",
            "I love you, I ate 5 apples\n",
            "I love you\n",
            "I ate 5 apples\n",
            "I ate 5 apples\n",
            "I love you, I ate 5 apples\n"
          ]
        }
      ]
    },
    {
      "cell_type": "code",
      "source": [
        "# 3 f스트링\n",
        "\n",
        "a = \"love\"\n",
        "b = 5\n",
        "\n",
        "print(f\"I {a} you\")\n",
        "print(f\" I ate {b} apples\")\n",
        "print(f\" I ate {b} apples\")\n",
        "\n",
        "print(f\"I {a} you, I ate{b} apples\")"
      ],
      "metadata": {
        "colab": {
          "base_uri": "https://localhost:8080/"
        },
        "id": "_js0lyLrEfHW",
        "outputId": "7731d5f5-f110-4853-e8b1-a7b66408d88e"
      },
      "execution_count": null,
      "outputs": [
        {
          "output_type": "stream",
          "name": "stdout",
          "text": [
            "I love you\n",
            " I ate 5 apples\n",
            " I ate 5 apples\n",
            "I love you, I ate5 apples\n"
          ]
        }
      ]
    },
    {
      "cell_type": "code",
      "source": [
        "# 4 연산자 사용\n",
        "\n",
        "a = \"love\"\n",
        "b = 5\n",
        "\n",
        "print(\"I \" + a + \" you\")\n",
        "print(\"I ate\", b , \"apples\")\n",
        "print(\"I ate\", b , \"apples\")\n",
        "print(\"I \" + a + \" you, I ate\", b , \"apples\")\n",
        "print(\"I\" , a , \" you\")\n",
        "print(\"I ate\", b , \"apples\")\n",
        "print(\"I ate\", b , \"apples\")\n",
        "print(\"I\", a , \"you, I ate\", b , \"apples\")"
      ],
      "metadata": {
        "colab": {
          "base_uri": "https://localhost:8080/"
        },
        "id": "_cClIOSxEptK",
        "outputId": "8e8bfc72-a578-4bcd-e190-47c437f5b154"
      },
      "execution_count": null,
      "outputs": [
        {
          "output_type": "stream",
          "name": "stdout",
          "text": [
            "I love you\n",
            "I ate 5 apples\n",
            "I ate 5 apples\n",
            "I love you, I ate 5 apples\n",
            "I love  you\n",
            "I ate 5 apples\n",
            "I ate 5 apples\n",
            "I love you, I ate 5 apples\n"
          ]
        }
      ]
    }
  ]
}
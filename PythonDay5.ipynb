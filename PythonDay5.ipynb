{
  "nbformat": 4,
  "nbformat_minor": 0,
  "metadata": {
    "colab": {
      "provenance": [],
      "authorship_tag": "ABX9TyPBxzA121YaygvJHKQR8Vl4",
      "include_colab_link": true
    },
    "kernelspec": {
      "name": "python3",
      "display_name": "Python 3"
    },
    "language_info": {
      "name": "python"
    }
  },
  "cells": [
    {
      "cell_type": "markdown",
      "metadata": {
        "id": "view-in-github",
        "colab_type": "text"
      },
      "source": [
        "<a href=\"https://colab.research.google.com/github/qeqe6789/pythonbasic/blob/main/PythonDay5.ipynb\" target=\"_parent\"><img src=\"https://colab.research.google.com/assets/colab-badge.svg\" alt=\"Open In Colab\"/></a>"
      ]
    },
    {
      "cell_type": "code",
      "execution_count": null,
      "metadata": {
        "id": "ADR3GR3JXArf"
      },
      "outputs": [],
      "source": [
        "# Function\n",
        "\n",
        "# 자바에서는 오히려 함수가 존재하지 않는다. 대신에 매서드를 사용한다.\n",
        "# 사실 거의 같지만 매서드는 클래스 내부에서 정의된다.\n",
        "# 자바는 클래스 밖이라는 개념이 존재하지 않기 때문에 함수가 없다.\n",
        "\n",
        "# 파이썬은 클래스 밖의 개념과 클래스 안의 개념이 다 존재하기 때문에\n",
        "# 함수도 매서드도 모두 사용된다.\n",
        "\n",
        "# 함수란?\n",
        "\n",
        "# 믹서기에 딸기를 넣으면 딸기 주스가 바나나를 넣으면 바나나 주스가 만들어진다.\n",
        "# 함수도 이와 같이 입력 값에 따라 다른 실행 결과를 내보낸다.\n",
        "# 특히 파이썬도 자바와 같이 (매서드) 함수를 중요하게 많이 사용된다.\n",
        "\n",
        "# 왜?\n",
        "# 프로그래밍을 하다보면 같은 내용을 반복해서 실행 시켜야 할 부분이 상당히 많아진다.\n",
        "# 그때마다 새롭게 만들어서 사용하는 것이 아니라 한번 범용적으로 만들어서\n",
        "# 필요할 때마다 호출하여 사용하면 프로그램의 흐름도 잘 파악할 수 있고 오류가 어디서\n",
        "# 발생하는지도 쉽게 찾을 수 있다."
      ]
    },
    {
      "cell_type": "code",
      "source": [
        "# def 함수명():\n",
        "#   수행구문1\n",
        "#   수행구문2\n",
        "\n",
        "# 함수 정의\n",
        "def add(a, b) :\n",
        "  return a + b\n",
        "\n",
        "# 함수 호출\n",
        "print(add(1,2))\n",
        "print(add(3,5))\n"
      ],
      "metadata": {
        "colab": {
          "base_uri": "https://localhost:8080/"
        },
        "id": "O7qGUqQYeO2W",
        "outputId": "c494a49d-967d-4ed8-b659-d121f2876e36"
      },
      "execution_count": 2,
      "outputs": [
        {
          "output_type": "stream",
          "name": "stdout",
          "text": [
            "3\n",
            "8\n"
          ]
        }
      ]
    },
    {
      "cell_type": "code",
      "source": [
        "# 매개변수와 인수 (객체와 인스턴스 / 매서드와 함수, 파라미터와 옵션)\n",
        "# 매개변수와 인수는 혼용하여 사용되는 조금 헷갈릴수 있는 용어이다.\n",
        "\n",
        "# 매개변수는 함수에 입력으로 전달된 값을 받는 변수를 의미\n",
        "# 인수는 함수를 호출할 때 전달하는 입력 값을 의미\n",
        "\n",
        "def add(a, b) : # a, b 매개변수\n",
        "  return a + b\n",
        "\n",
        "print(add(1,2)) # 1, 2 인수 (진짜 값)\n",
        "print(add(3,5)) # 3, 5 인수"
      ],
      "metadata": {
        "colab": {
          "base_uri": "https://localhost:8080/"
        },
        "id": "177G8BAfhVXa",
        "outputId": "25c51a3c-3b29-45e8-8dba-10acee4dfec4"
      },
      "execution_count": 3,
      "outputs": [
        {
          "output_type": "stream",
          "name": "stdout",
          "text": [
            "3\n",
            "8\n"
          ]
        }
      ]
    },
    {
      "cell_type": "code",
      "source": [
        "# 함수의 4가지 형태\n",
        "\n",
        "# 1. input값과 output값이 모두 존재하는 함수 (******)\n",
        "# 2. input값이 없고 output값만 존재하는 함수\n",
        "# 3. input값은 있고 output값은 존재하지 않는 함수\n",
        "# 4. input값도 없고 output값도 없는 함수\n",
        "\n",
        "\n",
        "# 1. input값과 output값이 모두 존재하는 함수 (******)\n",
        "\n",
        "def add(a, b) :\n",
        "  return a + b\n",
        "\n",
        "print(add(1,2))"
      ],
      "metadata": {
        "colab": {
          "base_uri": "https://localhost:8080/"
        },
        "id": "7hVxttaehd5R",
        "outputId": "3e4f566c-b5d6-430b-825a-0483dfe66d47"
      },
      "execution_count": 4,
      "outputs": [
        {
          "output_type": "stream",
          "name": "stdout",
          "text": [
            "3\n",
            "8\n",
            "Hello World\n"
          ]
        }
      ]
    },
    {
      "cell_type": "code",
      "source": [
        "# 2. input값이 없고 output값만 존재하는 함수\n",
        "\n",
        "def say() :\n",
        "  return 'Hello World'\n",
        "\n",
        "print(say())"
      ],
      "metadata": {
        "id": "InFRWiKOjI24"
      },
      "execution_count": null,
      "outputs": []
    },
    {
      "cell_type": "code",
      "source": [
        "# 3. input값은 있고 output값은 존재하지 않는 함수\n",
        "\n",
        "def yesinput(name):\n",
        "  print(name, '님 어서오세요')\n",
        "\n",
        "yesinput('홍길동')"
      ],
      "metadata": {
        "colab": {
          "base_uri": "https://localhost:8080/"
        },
        "id": "PkC_QfV7jKnp",
        "outputId": "9e4cce8b-93ce-48a2-912a-d8d1d01a2f5d"
      },
      "execution_count": 5,
      "outputs": [
        {
          "output_type": "stream",
          "name": "stdout",
          "text": [
            "홍길동 님 어서오세요\n"
          ]
        }
      ]
    },
    {
      "cell_type": "code",
      "source": [
        "# 4. input값도 없고 output값도 없는 함수\n",
        "\n",
        "def noinnoout():\n",
        "  print('환영합니다.')\n",
        "\n",
        "noinnoout()"
      ],
      "metadata": {
        "colab": {
          "base_uri": "https://localhost:8080/"
        },
        "id": "YPs84VU9kFXV",
        "outputId": "9453536b-1b29-4d36-d50c-c8676e17716c"
      },
      "execution_count": 7,
      "outputs": [
        {
          "output_type": "stream",
          "name": "stdout",
          "text": [
            "환영합니다.\n"
          ]
        }
      ]
    },
    {
      "cell_type": "code",
      "source": [
        "# 매개 변수의 수를 알 수 없을 때, 즉, 몇개의 매개 변수가 들어올 지 모를 때...\n",
        "\n",
        "def add2(a,b):\n",
        "  return a+b\n",
        "\n",
        "def add3(a,b,c):\n",
        "  return a+b+c\n",
        "\n",
        "def add(*args):\n",
        "  result = 0\n",
        "  for i in args:\n",
        "    result = result + i\n",
        "  print(result)\n",
        " \n",
        "add(1,2)\n",
        "add(1,2,3)\n",
        "add(1,2,3,4,5,6,7,8)\n"
      ],
      "metadata": {
        "colab": {
          "base_uri": "https://localhost:8080/"
        },
        "id": "S5PRMttylBSx",
        "outputId": "a9bd04ba-393b-4cac-9cc2-832a13c5a70f"
      },
      "execution_count": 8,
      "outputs": [
        {
          "output_type": "stream",
          "name": "stdout",
          "text": [
            "3\n",
            "6\n",
            "36\n"
          ]
        }
      ]
    },
    {
      "cell_type": "code",
      "source": [
        "# 함수의 리턴값은 언제나 하나이다.\n",
        "\n",
        "def addmul(a,b):\n",
        "  return a+b\n",
        "  return a*b\n",
        "\n",
        "print(addmul(2,3))\n",
        "\n",
        "def addmul2(a,b):\n",
        "  return a+b, a*b\n",
        "\n",
        "addmul2(2,3)\n",
        "\n",
        "# 결과 값으로 튜플 (5,6) 출력되었다. 2개가 아닌 튜플 1개로 출력된 것이다."
      ],
      "metadata": {
        "colab": {
          "base_uri": "https://localhost:8080/"
        },
        "id": "dmBr5ahLow-U",
        "outputId": "5cb5bd48-db16-4265-d7e2-2b6dd5d7d94e"
      },
      "execution_count": 11,
      "outputs": [
        {
          "output_type": "stream",
          "name": "stdout",
          "text": [
            "5\n"
          ]
        },
        {
          "output_type": "execute_result",
          "data": {
            "text/plain": [
              "(5, 6)"
            ]
          },
          "metadata": {},
          "execution_count": 11
        }
      ]
    },
    {
      "cell_type": "code",
      "source": [
        "# 매개 변수에 미리 초기값 설정하기\n",
        "\n",
        "def aboutme(name, age, gender=True):\n",
        "  print(f'나의 이름은 {name} 입니다.')\n",
        "  print(f'나이는 {age}입니다.')\n",
        "  if gender :\n",
        "    print(f'나의 성별은 남성입니다.')\n",
        "  else :\n",
        "    print(f'나의 성별은 여성입니다.')\n",
        "\n",
        "aboutme(\"송중기\", 32, True)\n",
        "aboutme(\"송중기\", 32)"
      ],
      "metadata": {
        "colab": {
          "base_uri": "https://localhost:8080/"
        },
        "id": "lifDx7WQpuQF",
        "outputId": "cc2e25b2-21d5-4e96-e6dd-b38ce255043b"
      },
      "execution_count": 12,
      "outputs": [
        {
          "output_type": "stream",
          "name": "stdout",
          "text": [
            "나의 이름은 송중기 입니다.\n",
            "나이는 32입니다.\n",
            "나의 성별은 남성입니다.\n",
            "나의 이름은 송중기 입니다.\n",
            "나이는 32입니다.\n",
            "나의 성별은 남성입니다.\n"
          ]
        }
      ]
    },
    {
      "cell_type": "code",
      "source": [
        "# 함수 안에서의 변수 효력 범위 (지역변수/전역변수)\n",
        "\n",
        "a = 1\n",
        "def vartest(a):\n",
        "  a += 1\n",
        "  \n",
        "vartest(a)\n",
        "print(a)"
      ],
      "metadata": {
        "colab": {
          "base_uri": "https://localhost:8080/"
        },
        "id": "fZ2rpO8yrVLE",
        "outputId": "80310c93-cc21-4e26-bb3f-69834224004d"
      },
      "execution_count": 14,
      "outputs": [
        {
          "output_type": "stream",
          "name": "stdout",
          "text": [
            "1\n"
          ]
        }
      ]
    },
    {
      "cell_type": "code",
      "source": [
        "def vartest(a):\n",
        "  a += 1 # 4\n",
        "\n",
        "vartest(3)\n",
        "print(a)\n",
        "\n",
        "# 위의 셀에서 a를 정의 한 1이 출력되지만 만약 위 셀이 없다면\n",
        "# a를 전혀 알 수 없기 때문에 예외가 발생하게 된다."
      ],
      "metadata": {
        "colab": {
          "base_uri": "https://localhost:8080/"
        },
        "id": "bNGojUkbscVU",
        "outputId": "347c626f-b489-4db6-9e2b-2521a01e0aec"
      },
      "execution_count": 18,
      "outputs": [
        {
          "output_type": "stream",
          "name": "stdout",
          "text": [
            "1\n"
          ]
        }
      ]
    },
    {
      "cell_type": "code",
      "source": [
        "def vartest(a):\n",
        "  a += 1 # 4\n",
        "  return a\n",
        "\n",
        "print(vartest(3))"
      ],
      "metadata": {
        "colab": {
          "base_uri": "https://localhost:8080/"
        },
        "id": "zWd0GVvBtCob",
        "outputId": "d4ac8ee2-7de7-4aad-8e6b-9c1f5b4eb6fb"
      },
      "execution_count": 19,
      "outputs": [
        {
          "output_type": "stream",
          "name": "stdout",
          "text": [
            "4\n"
          ]
        }
      ]
    },
    {
      "cell_type": "code",
      "source": [
        "# Class / Object\n",
        "\n",
        "# Object Oriented Programming 객체 지향 프로그래밍\n",
        "\n",
        "# 객체 지향 프로그래밍이 필수는 아니다. 왜 C언어는 객체 지향언어가 아니다.\n",
        "\n",
        "# 클래스는 붕어빵 기계 객체는 붕어빵\n",
        "# 클래스는 쿠키틀 객체는 쿠키\n",
        "\n",
        "# 인스턴스와 객체의 차이\n",
        "# 클래스로 만든 객체를 인스턴스라고도 부른다. 그럼 차이가 무엇일까...\n",
        "\n",
        "# a객체는 쿠키 클래스의 인스턴스이다.\n",
        "\n",
        "# a는 쿠키 클래스의 인스턴스 이다.\n",
        "# a는 객체이다.\n",
        "\n",
        "# 인스턴스는 클래스와의 관계를 설명할 때 사용되고\n",
        "# 객체는 관계가 아닌 그 자체를 설명할 때 사용된다."
      ],
      "metadata": {
        "id": "pW3TD3w8uDsK"
      },
      "execution_count": 21,
      "outputs": []
    },
    {
      "cell_type": "code",
      "source": [
        "# 클래스 정의\n",
        "\n",
        "class Cal:\n",
        "  pass\n",
        "\n",
        "# 클래스로 인스턴스 생성\n",
        "a = Cal()"
      ],
      "metadata": {
        "id": "vFMipuWrxM5e"
      },
      "execution_count": null,
      "outputs": []
    },
    {
      "cell_type": "code",
      "source": [
        "result = 0\n",
        "result2 = 0\n",
        "\n",
        "def add(num):\n",
        "  global result\n",
        "  result += num\n",
        "  return result\n",
        "\n",
        "def add2(num):\n",
        "  global result2\n",
        "  result2 += num\n",
        "  return result2\n",
        "\n",
        "print(add(3))\n",
        "print(add(4))\n",
        "print(add(1))\n",
        "print()\n",
        "print(add2(2))\n",
        "print(add2(1))\n",
        "print(add2(3))\n",
        "\n",
        "# 똑같은 계산을 하는 계산기들이 각각 다른 결과 값을 유지하고 있다.\n",
        "# 계산기 1은 계산기 2에 전혀 영향을 주지 않는다.\n",
        "\n",
        "# 하지만 문제는 계산기가 더 필요해진다면 또 같은 계산기들을 만들어야 한다.\n",
        "\n",
        "# 따라서 클래스를 사용하여 계산기를 만들어 보자..."
      ],
      "metadata": {
        "colab": {
          "base_uri": "https://localhost:8080/"
        },
        "id": "tvWp3wM1v8wq",
        "outputId": "bafedc05-5406-497d-f414-0105c9547cb2"
      },
      "execution_count": 25,
      "outputs": [
        {
          "output_type": "stream",
          "name": "stdout",
          "text": [
            "3\n",
            "7\n",
            "8\n",
            "\n",
            "2\n",
            "3\n",
            "6\n"
          ]
        }
      ]
    },
    {
      "cell_type": "code",
      "source": [
        "class Cal:\n",
        "  def __init__(self): #파이썬에서의 생성자\n",
        "    self.result = 0\n",
        "  \n",
        "  def add(self, num):\n",
        "    self.result += num\n",
        "    return self.result\n",
        "\n",
        "  def sub(self, num) :\n",
        "    self.result -= num\n",
        "    return self.result\n",
        "\n",
        "cal1 = Cal()\n",
        "cal2 = Cal()\n",
        "cal3 = Cal()\n",
        "\n",
        "print(cal1.add(2))\n",
        "print(cal1.add(1))\n",
        "print(cal1.add(3))\n",
        "print()\n",
        "print(cal2.add(5))\n",
        "print(cal2.add(4))\n",
        "print(cal2.add(1))\n",
        "print()\n",
        "print(cal3.add(2))\n",
        "\n",
        "# 이미 만들어진 클래스에 새로운 기능 추가되면 객체들도 그 기능을 모두 사용할 수 있다."
      ],
      "metadata": {
        "colab": {
          "base_uri": "https://localhost:8080/"
        },
        "id": "2aK9a3wT3kbs",
        "outputId": "f560b04c-1394-4960-def3-784a6de7a3a8"
      },
      "execution_count": 26,
      "outputs": [
        {
          "output_type": "stream",
          "name": "stdout",
          "text": [
            "2\n",
            "3\n",
            "6\n",
            "\n",
            "5\n",
            "9\n",
            "10\n",
            "\n",
            "2\n"
          ]
        }
      ]
    },
    {
      "cell_type": "code",
      "source": [
        "class BigCal:\n",
        "  def setdata(self, first, second): # self는 호출한 객체의 이름이 온다.\n",
        "    self.first = first\n",
        "    self.second = second\n",
        "  \n",
        "  def add(self):\n",
        "    result = self.first + self.second\n",
        "    return result\n",
        "\n",
        "cal1 = BigCal()\n",
        "cal2 = BigCal()\n",
        "\n",
        "cal1.setdata(2,3) # 2가 first 3이 second self는 cal1된다.\n",
        "cal2.setdata(4,2) # 4가 first 2가 second self는 cal2\n",
        "\n",
        "print(cal1.first) # 2\n",
        "print(cal2.first) # 4\n",
        "\n",
        "print(cal1.add())\n",
        "print(cal2.add())"
      ],
      "metadata": {
        "colab": {
          "base_uri": "https://localhost:8080/"
        },
        "id": "2uMx48Cq6BoK",
        "outputId": "35f525fe-0717-464a-8825-932f51c3366b"
      },
      "execution_count": 28,
      "outputs": [
        {
          "output_type": "stream",
          "name": "stdout",
          "text": [
            "2\n",
            "4\n",
            "5\n",
            "6\n"
          ]
        }
      ]
    },
    {
      "cell_type": "code",
      "source": [
        "class BigCal:\n",
        "  def setdata(self, first, second): # self는 호출한 객체의 이름이 온다.\n",
        "    self.first = first\n",
        "    self.second = second\n",
        "  \n",
        "  def add(self):\n",
        "    result = self.first + self.second\n",
        "    return result\n",
        "  \n",
        "  def sub(self):\n",
        "    result = self.first - self.second\n",
        "    return result\n",
        "  \n",
        "  def mul(self):\n",
        "    result = self.first * self.second\n",
        "    return result\n",
        "  \n",
        "  def div(self):\n",
        "    result = self.first / self.second\n",
        "    return result\n",
        "\n",
        "cal1 = BigCal()\n",
        "cal2 = BigCal()\n",
        "\n",
        "cal1.setdata(2,3) # 2가 first 3이 second self는 cal1된다.\n",
        "cal2.setdata(4,2) # 4가 first 2가 second self는 cal2\n",
        "\n",
        "print(cal1.first) # 2\n",
        "print(cal2.first) # 4\n",
        "\n",
        "print(cal1.add())\n",
        "print(cal2.add())\n",
        "\n",
        "print(cal1.mul())\n",
        "print(cal2.mul())"
      ],
      "metadata": {
        "colab": {
          "base_uri": "https://localhost:8080/"
        },
        "id": "YtIkEXDE8IMo",
        "outputId": "474bd4ed-a4f3-41e6-9140-3a9987c5e9bc"
      },
      "execution_count": 29,
      "outputs": [
        {
          "output_type": "stream",
          "name": "stdout",
          "text": [
            "2\n",
            "4\n",
            "5\n",
            "6\n",
            "6\n",
            "8\n"
          ]
        }
      ]
    },
    {
      "cell_type": "code",
      "source": [
        "class BigCal:\n",
        "\n",
        "  def __init__(self, first, second):\n",
        "    self.first = first\n",
        "    self.second = second\n",
        "\n",
        "  # def setdata(self, first, second): # self는 호출한 객체의 이름이 온다.\n",
        "  #   self.first = first\n",
        "  #   self.second = second\n",
        "  \n",
        "  def add(self):\n",
        "    result = self.first + self.second\n",
        "    return result\n",
        "  \n",
        "  def sub(self):\n",
        "    result = self.first - self.second\n",
        "    return result\n",
        "  \n",
        "  def mul(self):\n",
        "    result = self.first * self.second\n",
        "    return result\n",
        "  \n",
        "  def div(self):\n",
        "    result = self.first / self.second\n",
        "    return result\n",
        "\n",
        "# cal1 = BigCal()\n",
        "# cal2 = BigCal()\n",
        "\n",
        "# cal1.setdata(2,3) # 2가 first 3이 second self는 cal1된다.\n",
        "# cal2.setdata(4,2) # 4가 first 2가 second self는 cal2\n",
        "\n",
        "cal1 = BigCal(2, 3)\n",
        "cal2 = BigCal(4, 2)\n",
        "\n",
        "print(cal1.first) # 2\n",
        "print(cal2.first) # 4\n",
        "\n",
        "print(cal1.add())\n",
        "print(cal2.add())\n",
        "\n",
        "print(cal1.mul())\n",
        "print(cal2.mul())"
      ],
      "metadata": {
        "colab": {
          "base_uri": "https://localhost:8080/"
        },
        "id": "jsPZ6pFf-Jvf",
        "outputId": "dca84f31-1a1b-45cd-a7bf-dd29f0e2225b"
      },
      "execution_count": 30,
      "outputs": [
        {
          "output_type": "stream",
          "name": "stdout",
          "text": [
            "2\n",
            "4\n",
            "5\n",
            "6\n",
            "6\n",
            "8\n"
          ]
        }
      ]
    },
    {
      "cell_type": "code",
      "source": [
        "# 상속 Inheritance\n",
        "# 자바는 다중상속을 지원하지 않는 반면 파이썬은 다중상속을 지원한다."
      ],
      "metadata": {
        "id": "r9GWpWut-8lF"
      },
      "execution_count": null,
      "outputs": []
    }
  ]
}
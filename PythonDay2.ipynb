{
  "nbformat": 4,
  "nbformat_minor": 0,
  "metadata": {
    "colab": {
      "provenance": [],
      "authorship_tag": "ABX9TyO4Cp3P0wS/1u9oR3i2mv2w",
      "include_colab_link": true
    },
    "kernelspec": {
      "name": "python3",
      "display_name": "Python 3"
    },
    "language_info": {
      "name": "python"
    }
  },
  "cells": [
    {
      "cell_type": "markdown",
      "metadata": {
        "id": "view-in-github",
        "colab_type": "text"
      },
      "source": [
        "<a href=\"https://colab.research.google.com/github/qeqe6789/pythonbasic/blob/main/PythonDay2.ipynb\" target=\"_parent\"><img src=\"https://colab.research.google.com/assets/colab-badge.svg\" alt=\"Open In Colab\"/></a>"
      ]
    },
    {
      "cell_type": "code",
      "execution_count": 2,
      "metadata": {
        "colab": {
          "base_uri": "https://localhost:8080/"
        },
        "id": "rMxSg48xiHqr",
        "outputId": "e3297438-91b1-4417-97fc-53475d11ca52"
      },
      "outputs": [
        {
          "output_type": "execute_result",
          "data": {
            "text/plain": [
              "2"
            ]
          },
          "metadata": {},
          "execution_count": 2
        }
      ],
      "source": [
        "# 문자열 함수들(매서드들)\n",
        "\n",
        "# 문자 개수 세기 count\n",
        "\n",
        "a = \"school\"\n",
        "a.count('o')"
      ]
    },
    {
      "cell_type": "code",
      "source": [
        "# 위치 알아내기 (find) 만약 없는 문자를 찾는 경우 -1 출력\n",
        "\n",
        "a = \"school\"\n",
        "print(a.find('o'))\n",
        "print(a.find('z'))"
      ],
      "metadata": {
        "colab": {
          "base_uri": "https://localhost:8080/"
        },
        "id": "6kXKC4rXiOqz",
        "outputId": "f5ac041b-1216-4ee8-cb4c-614be2b47cbe"
      },
      "execution_count": 3,
      "outputs": [
        {
          "output_type": "execute_result",
          "data": {
            "text/plain": [
              "2"
            ]
          },
          "metadata": {},
          "execution_count": 3
        }
      ]
    },
    {
      "cell_type": "code",
      "source": [
        "# 위치 알아내기 (index) 만약 없는 문자를 찾는 경우 오류 출력\n",
        "\n",
        "a = \"school\"\n",
        "print(a.index('o'))\n",
        "# print(a.index('z'))"
      ],
      "metadata": {
        "colab": {
          "base_uri": "https://localhost:8080/"
        },
        "id": "vjBZFMbxiOvq",
        "outputId": "f0ea6c48-54ce-44b1-908c-a20afda4caa3"
      },
      "execution_count": 4,
      "outputs": [
        {
          "output_type": "execute_result",
          "data": {
            "text/plain": [
              "3"
            ]
          },
          "metadata": {},
          "execution_count": 4
        }
      ]
    },
    {
      "cell_type": "code",
      "source": [
        "# 문자 삽입 join\n",
        "\n",
        "print(\" \".join(\"abcd\"))\n",
        "print(\",\".join(\"abcd\"))"
      ],
      "metadata": {
        "colab": {
          "base_uri": "https://localhost:8080/"
        },
        "id": "WU_2hLTxiZQa",
        "outputId": "7f5e8ee6-9db4-4e49-b106-e222936705ce"
      },
      "execution_count": 5,
      "outputs": [
        {
          "output_type": "stream",
          "name": "stdout",
          "text": [
            "a b c d\n",
            "a,b,c,d\n"
          ]
        }
      ]
    },
    {
      "cell_type": "code",
      "source": [
        "# 대문자로 바꾸기 upper\n",
        " \n",
        "a = 'Hello'\n",
        "\n",
        "a.upper()"
      ],
      "metadata": {
        "colab": {
          "base_uri": "https://localhost:8080/",
          "height": 36
        },
        "id": "_MDGQ8yxiwlv",
        "outputId": "3f76b97e-b647-4978-d4b2-d529f280981c"
      },
      "execution_count": 7,
      "outputs": [
        {
          "output_type": "execute_result",
          "data": {
            "text/plain": [
              "'HELLO'"
            ],
            "application/vnd.google.colaboratory.intrinsic+json": {
              "type": "string"
            }
          },
          "metadata": {},
          "execution_count": 7
        }
      ]
    },
    {
      "cell_type": "code",
      "source": [
        "# 소문자로 바꾸기 lower\n",
        " \n",
        "a = 'Hello'\n",
        "\n",
        "a.lower()"
      ],
      "metadata": {
        "colab": {
          "base_uri": "https://localhost:8080/",
          "height": 36
        },
        "id": "g-cb6Qtaiz7s",
        "outputId": "68c2c231-ab27-46c5-9087-e0f3159aeba6"
      },
      "execution_count": 9,
      "outputs": [
        {
          "output_type": "execute_result",
          "data": {
            "text/plain": [
              "'hello'"
            ],
            "application/vnd.google.colaboratory.intrinsic+json": {
              "type": "string"
            }
          },
          "metadata": {},
          "execution_count": 9
        }
      ]
    },
    {
      "cell_type": "code",
      "source": [
        "# 공백 제거 왼쪽 lstrip\n",
        "\n",
        "a = ' Hello'\n",
        "a.lstrip()"
      ],
      "metadata": {
        "colab": {
          "base_uri": "https://localhost:8080/",
          "height": 36
        },
        "id": "e-Dao32AjGgo",
        "outputId": "c9247a42-01bc-4b63-979d-8fccd4d57410"
      },
      "execution_count": 11,
      "outputs": [
        {
          "output_type": "execute_result",
          "data": {
            "text/plain": [
              "'Hello'"
            ],
            "application/vnd.google.colaboratory.intrinsic+json": {
              "type": "string"
            }
          },
          "metadata": {},
          "execution_count": 11
        }
      ]
    },
    {
      "cell_type": "code",
      "source": [
        "# 공백 제거 오른쪽 rstrip\n",
        "a = 'Hello '\n",
        "a.rstrip()"
      ],
      "metadata": {
        "colab": {
          "base_uri": "https://localhost:8080/",
          "height": 36
        },
        "id": "JASW-FtejNMi",
        "outputId": "a7bd7285-0203-42a2-e49b-075ab0614e42"
      },
      "execution_count": 12,
      "outputs": [
        {
          "output_type": "execute_result",
          "data": {
            "text/plain": [
              "'Hello'"
            ],
            "application/vnd.google.colaboratory.intrinsic+json": {
              "type": "string"
            }
          },
          "metadata": {},
          "execution_count": 12
        }
      ]
    },
    {
      "cell_type": "code",
      "source": [
        "# 글자 바꾸기 replace\n",
        "\n",
        "a = 'I love you'\n",
        "a.replace('love', 'hate')"
      ],
      "metadata": {
        "colab": {
          "base_uri": "https://localhost:8080/",
          "height": 36
        },
        "id": "G1yH5YzrjrWE",
        "outputId": "76b39087-fe5f-4d24-ba33-a55e7311f9e3"
      },
      "execution_count": 13,
      "outputs": [
        {
          "output_type": "execute_result",
          "data": {
            "text/plain": [
              "'I hate you'"
            ],
            "application/vnd.google.colaboratory.intrinsic+json": {
              "type": "string"
            }
          },
          "metadata": {},
          "execution_count": 13
        }
      ]
    },
    {
      "cell_type": "code",
      "source": [
        "# 문자열 나누기 split\n",
        "\n",
        "addr = \"서울시 강남구 서초동 1111\"\n",
        "print(addr.split()) # 생략하면 빈칸을 기준으로 분리한다.\n",
        "\n",
        "addr = \"서울시,강남구,서초동,1111\"\n",
        "print(addr.split(','))\n",
        "print(type(addr.split(',')))"
      ],
      "metadata": {
        "colab": {
          "base_uri": "https://localhost:8080/"
        },
        "id": "djnDUGmCjxR8",
        "outputId": "3685601b-f46c-4d5c-f136-3c0198b37d6d"
      },
      "execution_count": 14,
      "outputs": [
        {
          "output_type": "stream",
          "name": "stdout",
          "text": [
            "['서울시', '강남구', '서초동', '1111']\n",
            "['서울시', '강남구', '서초동', '1111']\n",
            "<class 'list'>\n"
          ]
        }
      ]
    },
    {
      "cell_type": "code",
      "source": [
        "# LIST, TUPLE, DICT, SET\n",
        "# 여러 데이터들의 묶음 Collection 컬렉션\n",
        "\n",
        "# LIST\n",
        "#  [] 대괄호로 만든다.\n",
        "#  mutable 수정 가능하다.\n",
        "#  indexing & slicing 이 가능하다.\n",
        "#  ordered 순서가 있다.\n",
        "\n",
        "a = []\n",
        "b = [1,2,3]\n",
        "c = ['a', 'b', 'c']\n",
        "d = [1, 2, 'a', 'b']\n",
        "\n",
        "b[0] #인덱싱\n",
        "print(c[1:]) #슬라이싱\n",
        "print(d[-1]) #마지막 요소는 -1\n",
        "\n",
        "# a[0] = 9 # a 리스트에는 아무 원소도 없어서 에러 발생\n",
        "b[0] = 9 # b 리스트에는 원소가 있으므로 수정 가능\n",
        "\n",
        "print(c)\n",
        "del c[2] # 리스트는 삭제가 가능하다.\n",
        "print(c)\n",
        "\n",
        "print(a)\n",
        "a.append(0) # 리스트는 삽입이 가능하다.\n",
        "print(a)"
      ],
      "metadata": {
        "colab": {
          "base_uri": "https://localhost:8080/"
        },
        "id": "cX_DXF5gj6Dk",
        "outputId": "efded5a3-0558-476f-e6b6-c4f6d7050866"
      },
      "execution_count": 16,
      "outputs": [
        {
          "output_type": "stream",
          "name": "stdout",
          "text": [
            "['b', 'c']\n",
            "b\n",
            "['a', 'b', 'c']\n",
            "['a', 'b']\n",
            "[]\n",
            "[0]\n"
          ]
        }
      ]
    },
    {
      "cell_type": "code",
      "source": [
        "# 리스트에서 많이 사용되는 함수 정리\n",
        "\n",
        "# 요소 추가 append - 파이썬은 어떠한 자료형도 함께 추가할 수 있다.\n",
        "a.append(0)\n",
        "print(a)\n",
        "a.append('a')\n",
        "print(a)\n",
        "\n",
        "# 정렬 sort\n",
        "a = [1,3,2,4]\n",
        "a.sort()\n",
        "print(a)\n",
        "\n",
        "# 뒤집기 reverse\n",
        "a.reverse()\n",
        "print(a)\n",
        "\n",
        "# 인덱스 index\n",
        "a.index(3)\n",
        "# a.index(5) 없는 요소는 에러 발생한다.\n",
        "\n",
        "# 삭제 remove 중복되는 수는 처음 등장하는 하나만 삭제한다.\n",
        "print()\n",
        "a = [1,2,3,4,5]\n",
        "a.remove(3)\n",
        "print(a)\n",
        "\n",
        "# 삭제 pop 리스트의 마지막 요소를 삭제한다.\n",
        "a = [1,2,3]\n",
        "a.pop() # 괄호에 값이 없으면 마지막 요소를 하나 삭제\n",
        "print(a)\n",
        "\n",
        "a = [1,2,3]\n",
        "a.pop(0) # 괄호에 값이 있으면 그 요소를 삭제\n",
        "print(a)\n",
        "\n",
        "# 개수 세기 count 특정 요소의 개수 세기\n",
        "\n",
        "a = [1,2,3,3]\n",
        "print(a.count(3))"
      ],
      "metadata": {
        "id": "Ts0MA7igyr1g"
      },
      "execution_count": null,
      "outputs": []
    },
    {
      "cell_type": "code",
      "source": [
        "# TUPLE\n",
        "#  () 소괄호로 만든다.\n",
        "#  immutable 수정이 불가능하다.\n",
        "#  indexing & slicing 이 가능하다.\n",
        "#  ordered 순서가 있다.\n",
        "#  한 개의 요소로 tuple을 만들때는 (1,) 쉼표를 괜히 넣는다. \n",
        "\n",
        "a = ()\n",
        "b = (1,) #  한 개의 요소로 tuple을 만들때는 (1,) 쉼표를 괜히 넣는다. \n",
        "c = (1,2,3)\n",
        "d = (1,2,'a','b')\n",
        "\n",
        "# del d[0] immutable 삭제가 불가능하다.\n",
        "# d[0] = 0 immutable 수정이 불가능하다.\n",
        "# d.append(5) immutable 삽입이 불가능하다.\n",
        "\n",
        "print(d[0]) # 인덱싱이 가능하다.\n",
        "print(d[0:2]) # 슬라이싱이 가능하다. 마지막은 미만으로 처리한다.\n",
        "\n",
        "print(len(d)) # 튜플 요소의 개수를 반환하는 함수"
      ],
      "metadata": {
        "id": "TSK1w9Qiyr80"
      },
      "execution_count": null,
      "outputs": []
    },
    {
      "cell_type": "code",
      "source": [
        "# DICT\n",
        "#  {} 중괄호로 만든다.\n",
        "#  mutable 수정 가능하다.\n",
        "#  indexing & slicing 이 불가능하다.\n",
        "#  unordered 순서가 없다.\n",
        "#  키값과 밸류 값으로 데이터가 저장된다.\n",
        "\n",
        "# 세상의 많은 데이터가 키값:밸류값 형태로 표현된다. ex) 이름:홍길동, 나이:20\n",
        "# 이러한 대응 관계를 파이썬에서 데이터를 저장하는 방식을 딕셔너리라고 한다.\n",
        "# JS의 JSON과 상당히 유사한 공통점을 가지고 있다.\n",
        "\n",
        "a = {'이름':'홍길동', '나이':20}\n",
        "b = {'이름':'홍길동', '나이':20, '보유코인':['비트코인','에이다','이더리움']}\n",
        "\n",
        "a['키'] = 185 # dict는 mutable 한 속성으로 삽입이 가능하다.\n",
        "print(a)\n",
        "del a['나이'] # dict는 mutable 한 속성으로 삭제도 가능하다.\n",
        "print(a)"
      ],
      "metadata": {
        "id": "vGPlcQLD8pUa"
      },
      "execution_count": null,
      "outputs": []
    },
    {
      "cell_type": "code",
      "source": [
        "# 딕셔너리에서 많이 사용되는 함수 정리\n",
        "\n",
        "# 딕셔너리에서 키값들만 추출\n",
        "\n",
        "a = {'이름':'홍길동', '나이':20, '보유코인':['비트코인','에이다','이더리움']}\n",
        "a.keys()\n",
        "\n",
        "# 딕셔너리에서 밸류값들만 추출\n",
        "a = {'이름':'홍길동', '나이':20, '보유코인':['비트코인','에이다','이더리움']}\n",
        "a.values()\n",
        "\n",
        "# 쌍으로 추출\n",
        "a = {'이름':'홍길동', '나이':20, '보유코인':['비트코인','에이다','이더리움']}\n",
        "print(a.items())\n",
        "\n",
        "# 키값으로 밸류값 추출\n",
        "print(a.get('이름'))\n",
        "print(a.get('몸무게')) # 찾는 키값이 없을때 None 출력한다.\n",
        "\n",
        "# 키값으로 밸류값 추출 (인덱싱이 불가능하기 때문에 꺼낼때 많이 사용된다.)\n",
        "print(a['이름'])\n",
        "#print(a['몸무게']) # 찾는 키값이 없을 때 예외 발생된다.\n",
        "\n",
        "# 키가 딕셔너리 안에 있는지 확인\n",
        "print('이름' in a) # 찾는 키값이 있을 때 true 반환\n",
        "print('몸무게' in a) # 찾는 키값이 있을 때 false 반환"
      ],
      "metadata": {
        "id": "hTUOrWDe9QNY"
      },
      "execution_count": null,
      "outputs": []
    },
    {
      "cell_type": "code",
      "source": [
        "# SET\n",
        "#  {} 중괄호로 만든다.\n",
        "#  mutable 수정 가능하다.\n",
        "#  indexing & slicing이 불가능하다.\n",
        "#  unordered 순서가 없다.\n",
        "#  중복데이터를 허용하지 않는다.\n",
        "\n",
        "a = set{} # 딕셔너리와 셋은 동일하게 {}를 사용한다. 따라서 빈 값으로 생성할때는 주의하자.\n",
        "b = {1,2,3}\n",
        "c = {1,2,'a','b'}\n",
        "d = {1,2,2,2,3,4,4}\n",
        "print(d)\n",
        "\n",
        "a.add(0) #mutable 삽입 가능하다.\n",
        "print(a)\n",
        "print(c)\n",
        "c.remove(2) # mutable 삭제 가능하다.\n",
        "print(c)"
      ],
      "metadata": {
        "colab": {
          "base_uri": "https://localhost:8080/"
        },
        "id": "RRHYJY2lu65A",
        "outputId": "bfd60787-70d7-43c9-c116-da9f3f430c4d"
      },
      "execution_count": 17,
      "outputs": [
        {
          "output_type": "stream",
          "name": "stdout",
          "text": [
            "{1, 2, 3, 4}\n"
          ]
        }
      ]
    },
    {
      "cell_type": "code",
      "source": [
        "# 불 Bool 자료형 boolean\n",
        "\n",
        "# 반드시 대문자로 시작한다.\n",
        "\n",
        "a = True\n",
        "b = False\n",
        "c = \"true\"\n",
        "\n",
        "print(type(a))\n",
        "print(type(c))\n",
        "\n",
        "print(1 == 1)\n",
        "print(1 != 1)"
      ],
      "metadata": {
        "id": "3sDK5zKaEgwi"
      },
      "execution_count": null,
      "outputs": []
    },
    {
      "cell_type": "code",
      "source": [
        "# 키보드로 입력 받기\n",
        "\n",
        "a = input()\n",
        "print(a)"
      ],
      "metadata": {
        "id": "BGj39lyVFvll"
      },
      "execution_count": null,
      "outputs": []
    },
    {
      "cell_type": "code",
      "source": [
        "a = input(\"지금이 오후인가요?\")\n",
        "print(a)"
      ],
      "metadata": {
        "id": "raz05CYHFzQ7"
      },
      "execution_count": null,
      "outputs": []
    },
    {
      "cell_type": "code",
      "source": [
        "# 파이썬에서 input은 항상 일단 먼저 모두 문자 취급한다.\n",
        "\n",
        "# a = input(\"지금이 몇시에요\")\n",
        "# print(a+1)\n",
        "\n",
        "a = int(input(\"지금부터 한시간 뒤는 몇 시인가요\"))\n",
        "print(a+1)"
      ],
      "metadata": {
        "id": "UoSibPuyF2r0"
      },
      "execution_count": null,
      "outputs": []
    },
    {
      "cell_type": "code",
      "source": [
        "countries = ('한국', '미국', '캐나다', '일본', '멕시코')\n",
        "print(countries)\n",
        "\n",
        "print('coutries:', countries.index(input('국가를 입력해주세요:\\n')))"
      ],
      "metadata": {
        "colab": {
          "base_uri": "https://localhost:8080/"
        },
        "id": "0p9p2FawG9o8",
        "outputId": "8f276532-d9d5-4f3f-fbf7-62bca7728444"
      },
      "execution_count": 22,
      "outputs": [
        {
          "name": "stdout",
          "output_type": "stream",
          "text": [
            "('한국', '미국', '캐나다', '일본', '멕시코')\n",
            "국가를 입력해주세요:\n",
            "일본\n"
          ]
        },
        {
          "output_type": "execute_result",
          "data": {
            "text/plain": [
              "3"
            ]
          },
          "metadata": {},
          "execution_count": 22
        }
      ]
    },
    {
      "cell_type": "code",
      "source": [
        "sport = ['soccer', 'baseball']\n",
        "sport.append(input('가장 좋아하는 스포츠가 무엇인가요?\\n'))\n",
        "sport.sort()\n",
        "print(sport)"
      ],
      "metadata": {
        "colab": {
          "base_uri": "https://localhost:8080/"
        },
        "id": "IVc7KefbIghg",
        "outputId": "fac0585e-3e7f-4f8c-81a6-2b399efc3eb0"
      },
      "execution_count": 26,
      "outputs": [
        {
          "output_type": "stream",
          "name": "stdout",
          "text": [
            "가장 좋아하는 스포츠가 무엇인가요?\n",
            "basketball\n",
            "['baseball', 'basketball', 'soccer']\n"
          ]
        }
      ]
    },
    {
      "cell_type": "code",
      "source": [
        "subjects = ['math', 'korean', 'english', 'computer', 'science', 'society']\n",
        "print(subjects)\n",
        "\n",
        "subjects.remove(input('싫어하는 과목은 무엇입니까?\\n'))\n",
        "print(subjects)"
      ],
      "metadata": {
        "colab": {
          "base_uri": "https://localhost:8080/"
        },
        "id": "LmwUMFpTJpOL",
        "outputId": "30c29aa1-237b-4d59-8943-d68e0b45c976"
      },
      "execution_count": 28,
      "outputs": [
        {
          "output_type": "stream",
          "name": "stdout",
          "text": [
            "['math', 'korean', 'english', 'computer', 'science', 'society']\n",
            "싫어하는 과목은 무엇입니까?\n",
            "korean\n",
            "['math', 'english', 'computer', 'science', 'society']\n"
          ]
        }
      ]
    },
    {
      "cell_type": "code",
      "source": [
        "food_list = input('가장 좋아하는 음식 4가지는 무엇인가요?(,로 구분해주세요)\\n').split(',')\n",
        "foods = {i:food_list[i] for i in range(len(food_list))}\n",
        "print(foods)\n",
        "\n",
        "del(foods[int(input('없애고 싶은 음식의 번호를 입력해주세요.\\n'))])\n",
        "\n",
        "print(sorted(foods.values()))"
      ],
      "metadata": {
        "colab": {
          "base_uri": "https://localhost:8080/"
        },
        "id": "oDQg30spKuDQ",
        "outputId": "e2f0b82a-7171-4679-f014-ee06454aef3e"
      },
      "execution_count": 41,
      "outputs": [
        {
          "output_type": "stream",
          "name": "stdout",
          "text": [
            "가장 좋아하는 음식 4가지는 무엇인가요?(,로 구분해주세요)\n",
            "피자,치킨,감자,고구마\n",
            "{0: '피자', 1: '치킨', 2: '감자', 3: '고구마'}\n",
            "없애고 싶은 음식의 번호를 입력해주세요.\n",
            "3\n",
            "['감자', '치킨', '피자']\n"
          ]
        }
      ]
    },
    {
      "cell_type": "code",
      "source": [
        "color = ['red', 'green', 'blue', 'orange', 'yellow', 'purple', 'black', 'white', 'navy', 'gray']\n",
        "start = int(input('0~4사이의 숫자를 입력해주세요\\n'))\n",
        "end = int(input('5~9사이의 숫자를 입력해주세요\\n'))\n",
        "print(color[start : end])"
      ],
      "metadata": {
        "colab": {
          "base_uri": "https://localhost:8080/"
        },
        "id": "8zkXPI4zOGkE",
        "outputId": "2bce3709-34ac-4070-a4c2-d5bdf2d698ac"
      },
      "execution_count": 44,
      "outputs": [
        {
          "output_type": "stream",
          "name": "stdout",
          "text": [
            "0~4사이의 숫자를 입력해주세요\n",
            "3\n",
            "5~9사이의 숫자를 입력해주세요8\n",
            "['orange', 'yellow', 'purple', 'black', 'white']\n"
          ]
        }
      ]
    }
  ]
}
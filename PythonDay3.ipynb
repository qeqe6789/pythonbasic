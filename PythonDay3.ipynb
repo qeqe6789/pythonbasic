{
  "nbformat": 4,
  "nbformat_minor": 0,
  "metadata": {
    "colab": {
      "provenance": [],
      "authorship_tag": "ABX9TyNXyclOys2BkI+baJ+WjBBw",
      "include_colab_link": true
    },
    "kernelspec": {
      "name": "python3",
      "display_name": "Python 3"
    },
    "language_info": {
      "name": "python"
    }
  },
  "cells": [
    {
      "cell_type": "markdown",
      "metadata": {
        "id": "view-in-github",
        "colab_type": "text"
      },
      "source": [
        "<a href=\"https://colab.research.google.com/github/qeqe6789/pythonbasic/blob/main/PythonDay3.ipynb\" target=\"_parent\"><img src=\"https://colab.research.google.com/assets/colab-badge.svg\" alt=\"Open In Colab\"/></a>"
      ]
    },
    {
      "cell_type": "code",
      "execution_count": 1,
      "metadata": {
        "colab": {
          "base_uri": "https://localhost:8080/"
        },
        "id": "wFSthG7FHpYW",
        "outputId": "d4c2b5d6-e5d8-4f3c-bbeb-91833568c600"
      },
      "outputs": [
        {
          "output_type": "stream",
          "name": "stdout",
          "text": [
            "10\n"
          ]
        }
      ],
      "source": [
        "# 조건문 if\n",
        "\n",
        "# 조건문은 특정 조건을 만족할 때 실행되는 코드를 제어한다. 개발하다보면 여러가지 상황을 처리해야\n",
        "# 하는 경우가 발생한다. 이 때, 조건문을 통해 실행되거나 실행되지 않는 코드를 정의할 수 있다.\n",
        "\n",
        "# if의 기본 문법\n",
        "\n",
        "# 자바에서의 기본 if문\n",
        "# if(조건식) {\n",
        "#     만족하는 경우;\n",
        "# }\n",
        "\n",
        "# 파이썬에서의 기본 if 문\n",
        "# if 조건식 :                         # 조건식 뒤에 : 콜론을 잊지 말자. 중괄호는 사용하지 않는다.\n",
        "#    조건을 만족하는 경우 실행 코드   # 파이썬은 들여쓰기에 매무 민감한다.\n",
        "\n",
        "# 조건식에는 항상 언제나 True와 False 만이 올 수 있다.\n",
        "# 다시 한번 강조하지만 만약 들여쓰기를 하지 않으면 오류가 발생된다.\n",
        "\n",
        "x = 10\n",
        "if x == 10 :\n",
        "  print(x)\n"
      ]
    },
    {
      "cell_type": "code",
      "source": [
        "a = int(input('정수를 입력하세요 > '))\n",
        "\n",
        "if a == 5:\n",
        "  print(f'입력한 값은 {a} 입니다.')"
      ],
      "metadata": {
        "colab": {
          "base_uri": "https://localhost:8080/"
        },
        "id": "AtIXzoXZKhpN",
        "outputId": "a936bbda-c1e9-4bc4-ac1a-4d51eda9f643"
      },
      "execution_count": 3,
      "outputs": [
        {
          "output_type": "stream",
          "name": "stdout",
          "text": [
            "정수를 입력하세요 > 5\n",
            "입력한 값은 5 입니다.\n"
          ]
        }
      ]
    },
    {
      "cell_type": "code",
      "source": [
        "# 조건식을 여러개 취급해야하는 경우 가능하면 중첩 if 문은 사용하지 말자\n",
        "\n",
        "x = 15\n",
        "\n",
        "if x >= 10:\n",
        "  print('x는 10 이상입니다. ')\n",
        "  if x<= 20:\n",
        "    print('x는 20 이하 입니다.')\n",
        "  if x == 15:\n",
        "    print('x는 15입니다.')"
      ],
      "metadata": {
        "colab": {
          "base_uri": "https://localhost:8080/"
        },
        "id": "1vtr3RZmLfRG",
        "outputId": "1e103a1b-bb96-409d-db21-034f6218c042"
      },
      "execution_count": 4,
      "outputs": [
        {
          "output_type": "stream",
          "name": "stdout",
          "text": [
            "x는 10 이상입니다. \n",
            "x는 20 이하 입니다.\n",
            "x는 15입니다.\n"
          ]
        }
      ]
    },
    {
      "cell_type": "code",
      "source": [
        "a = int(input('숫자를 입력하세요'))\n",
        "\n",
        "if a > 5:\n",
        "  print('입력값이 5보다 큽니다.')\n",
        "elif a == 5 :\n",
        "  print('입력값이 5입니다.')\n",
        "else :\n",
        "  print('입력값이 5보다 작습니다.')"
      ],
      "metadata": {
        "colab": {
          "base_uri": "https://localhost:8080/"
        },
        "id": "0zZhD-r_Mh6-",
        "outputId": "886f4b96-91e4-4541-ebe0-c13244a94216"
      },
      "execution_count": 5,
      "outputs": [
        {
          "output_type": "stream",
          "name": "stdout",
          "text": [
            "숫자를 입력하세요7\n",
            "입력값이 5보다 큽니다.\n"
          ]
        }
      ]
    },
    {
      "cell_type": "code",
      "source": [
        "no = int(input('1부터 5사이의 값을 입력하세요'))\n",
        "\n",
        "if no < 5 and no >= 4 : # 양쪽 조건을 동시에 만족\n",
        "  print('입력값은 4입니다.')\n",
        "elif no < 4 and no >= 3: # 양쪽 조건을 동시에 만족\n",
        "  print('입력값은 3입니다.')\n",
        "elif no < 3 and no >= 2: # 양쪽 조건을 동시에 만족\n",
        "  print('입력값은 2입니다.')\n",
        "elif no < 2 and no >= 1: # 양쪽 조건을 동시에 만족\n",
        "  print('입력값은 1입니다.')\n",
        "else:\n",
        "  print('입력값은 5입니다.')"
      ],
      "metadata": {
        "colab": {
          "base_uri": "https://localhost:8080/"
        },
        "id": "vGC52v-iNthn",
        "outputId": "b730db88-c803-4940-86f2-ac9714421e8b"
      },
      "execution_count": 6,
      "outputs": [
        {
          "output_type": "stream",
          "name": "stdout",
          "text": [
            "1부터 5사이의 값을 입력하세요3\n",
            "입력값은 3입니다.\n"
          ]
        }
      ]
    },
    {
      "cell_type": "code",
      "source": [
        "# 월을 입력하세요? 해당 계절을 출력하세요.\n",
        "# 3,4,5 봄 6,7,8 여름 9,10,11 가을 12,1,2 겨울\n",
        "\n",
        "seasons = {1:'겨울', 2:'겨울', 3:'봄', 4:'봄', 5:'봄', 6:'여름', 7:'여름', 8:'여름', 9:'가을', 10:'가을', 11:'가을', 12:'겨울'}\n",
        "\n",
        "month = int(input('월을 입력하세요.'))\n",
        "season = seasons.get(month, 'unknown')\n",
        "print(f'{season} 입니다.')"
      ],
      "metadata": {
        "colab": {
          "base_uri": "https://localhost:8080/"
        },
        "id": "fuDumbvtP-mN",
        "outputId": "931742d6-c461-4e99-ac4a-4c200e318008"
      },
      "execution_count": 7,
      "outputs": [
        {
          "output_type": "stream",
          "name": "stdout",
          "text": [
            "월을 입력하세요.5\n",
            "봄입니다.\n"
          ]
        }
      ]
    },
    {
      "cell_type": "code",
      "source": [
        "# if statement 조건 구문\n",
        "\n",
        "# 정수 하나를 입력 받아서 그 수가 홀수인지 짝수인지를 알려주는 프로그램을 만드세요\n",
        "\n",
        "num = int(input('정수를 입력하세요'))\n",
        "\n",
        "if num % 2 == 0:\n",
        "  print(f'입력하신 {num}은 짝수입니다.')\n",
        "else :\n",
        "  print(f'입력하신 {num}은 홀수입니다.')"
      ],
      "metadata": {
        "colab": {
          "base_uri": "https://localhost:8080/"
        },
        "id": "JV-Qok9hU99w",
        "outputId": "abe19f82-e98d-4a18-bca9-d04e9d1c3f7c"
      },
      "execution_count": 9,
      "outputs": [
        {
          "output_type": "stream",
          "name": "stdout",
          "text": [
            "정수를 입력하세요4\n",
            "입력하신 4은 짝수입니다.\n"
          ]
        }
      ]
    },
    {
      "cell_type": "code",
      "source": [
        "# 조건부 표현식 if expression\n",
        "# 자바의 삼항연산자와 달리 if 를 사용하여 표현한다.\n",
        "\n",
        "no = int(input('정수를 입력하세요'))\n",
        "\n",
        "answer = '짝수' if no % 2 == 0 else '홀수' # True 출력값      if 조건식       else False 출력값\n",
        "print(f'입력하신 {no}은 {answer}입니다')"
      ],
      "metadata": {
        "colab": {
          "base_uri": "https://localhost:8080/"
        },
        "id": "B6xOwO_IVM8K",
        "outputId": "b6df04f5-06da-4c3d-f45e-dcb579abe580"
      },
      "execution_count": 8,
      "outputs": [
        {
          "output_type": "stream",
          "name": "stdout",
          "text": [
            "정수를 입력하세요5\n",
            "입력하신 5은 홀수입니다\n"
          ]
        }
      ]
    },
    {
      "cell_type": "code",
      "source": [
        "# if와 in 연산자\n",
        "list1 = ['봄','가을']\n",
        "\n",
        "input1 = input('어느 계절을 좋아하시나요? ')\n",
        "\n",
        "if input1 in list1 :\n",
        "  print(f'{input1}은 여행가능한 계정입니다. ')\n",
        "else :\n",
        "  print(f'{input1}은 여행이 불가능한 계절입니다. ')"
      ],
      "metadata": {
        "colab": {
          "base_uri": "https://localhost:8080/"
        },
        "id": "vgM08x7jZla9",
        "outputId": "7c98a4f7-e35a-4e09-a095-20a72d44e459"
      },
      "execution_count": 10,
      "outputs": [
        {
          "output_type": "stream",
          "name": "stdout",
          "text": [
            "어느 계절을 좋아하시나요? 겨울\n",
            "겨울은 여행이 불가능한 계절입니다. \n"
          ]
        }
      ]
    },
    {
      "cell_type": "code",
      "source": [
        "# 성적을 입력받아서 59학점 까지는 F학점\n",
        "# 69점까지는 D학점\n",
        "# 79점까지는 C학점\n",
        "# 89학점까지는 B학점\n",
        "# 100점까지는 A학점을\n",
        "# '당신의 점수 {}는 {}학점입니다.'\n",
        "\n",
        "score = int(input('성적을 입력하세요. '))\n",
        "\n",
        "if score <= 59 :\n",
        "  grade = 'F'\n",
        "elif score <= 69 :\n",
        "  grade = 'D'\n",
        "elif score <= 79 :\n",
        "  grade = 'C'\n",
        "elif score <= 89 :\n",
        "  grade = 'B'\n",
        "else :\n",
        "  grade = 'A'\n",
        "\n",
        "print(f'당신의 점수 {score}는 {grade}학점입니다.')"
      ],
      "metadata": {
        "colab": {
          "base_uri": "https://localhost:8080/"
        },
        "id": "6tqz0u_3Z3HH",
        "outputId": "b9b43be9-596e-467f-e82b-5379d4412f88"
      },
      "execution_count": 12,
      "outputs": [
        {
          "output_type": "stream",
          "name": "stdout",
          "text": [
            "성적을 입력하세요. 70\n",
            "당신의 점수 70는 C학점입니다.\n"
          ]
        }
      ]
    },
    {
      "cell_type": "code",
      "source": [
        "# 반복문 While For\n",
        "\n",
        "# While은 반복횟수가 불명확할 때 주로 사용되고\n",
        "# For 문은 반복횟수가 명확할 때 주로 사용된다.\n",
        "\n",
        "# 예를 들어 'hi' 10번 반복하여 출력하고자 한다.\n",
        "print('hi')\n",
        "print('hi')\n",
        "print('hi')\n",
        "print('hi')\n",
        "print('hi')\n",
        "print('hi')\n",
        "print('hi')\n",
        "print('hi')\n",
        "print('hi')\n",
        "print('hi')\n",
        "\n",
        "# 10번의 경우에는 위와 같이 10번 반복할 수 있다. 하지만 1000번이라면 무모하다."
      ],
      "metadata": {
        "colab": {
          "base_uri": "https://localhost:8080/"
        },
        "id": "YHUlpEMTakLk",
        "outputId": "20d04540-008f-477f-ee79-0e145d12c46b"
      },
      "execution_count": 14,
      "outputs": [
        {
          "output_type": "stream",
          "name": "stdout",
          "text": [
            "hi\n",
            "hi\n",
            "hi\n",
            "hi\n",
            "hi\n",
            "hi\n",
            "hi\n",
            "hi\n",
            "hi\n",
            "hi\n"
          ]
        }
      ]
    },
    {
      "cell_type": "code",
      "source": [
        "for i in range(10):\n",
        "  print('hi')\n",
        "\n",
        "# range는 인수 3개가 기본이다. range(start, stop, step)\n",
        "# start 생략 가능 0에서 시작 step 생략 가능 하나씩 증가"
      ],
      "metadata": {
        "colab": {
          "base_uri": "https://localhost:8080/"
        },
        "id": "uPoV1BRwbN6M",
        "outputId": "ee7c23ec-e0ff-424b-b176-65ab544e47fb"
      },
      "execution_count": 15,
      "outputs": [
        {
          "output_type": "stream",
          "name": "stdout",
          "text": [
            "hi\n",
            "hi\n",
            "hi\n",
            "hi\n",
            "hi\n",
            "hi\n",
            "hi\n",
            "hi\n",
            "hi\n",
            "hi\n"
          ]
        }
      ]
    },
    {
      "cell_type": "code",
      "source": [
        "list1 = [10, 30, 20, 50]\n",
        "\n",
        "for i in list1 :\n",
        "  print(i)"
      ],
      "metadata": {
        "colab": {
          "base_uri": "https://localhost:8080/"
        },
        "id": "PBrgCb0fc1ye",
        "outputId": "4e030c06-62fb-40a8-86d8-ac8f40b99553"
      },
      "execution_count": 17,
      "outputs": [
        {
          "output_type": "stream",
          "name": "stdout",
          "text": [
            "10\n",
            "30\n",
            "20\n",
            "50\n"
          ]
        }
      ]
    },
    {
      "cell_type": "code",
      "source": [
        "list1 = [10, 30, 20, 50]\n",
        "\n",
        "for i in range(4) :\n",
        "  print(list1[i])"
      ],
      "metadata": {
        "colab": {
          "base_uri": "https://localhost:8080/"
        },
        "id": "wQvyY4YkdQxk",
        "outputId": "67bec52d-9db6-4ab6-b611-74643c8337d9"
      },
      "execution_count": 19,
      "outputs": [
        {
          "output_type": "stream",
          "name": "stdout",
          "text": [
            "10\n",
            "30\n",
            "20\n",
            "50\n"
          ]
        }
      ]
    },
    {
      "cell_type": "code",
      "source": [
        "# 리스트와 for문을 이용하여 1~ 100까지의 합 구하기\n",
        "\n",
        "list = []\n",
        "sum = 0\n",
        "\n",
        "for i in range(101):\n",
        "  list.append(i)\n",
        "\n",
        "for j in list :\n",
        "  sum += j\n",
        "\n",
        "print(f'1부터 100까지의 합은 {sum}입니다.')"
      ],
      "metadata": {
        "colab": {
          "base_uri": "https://localhost:8080/"
        },
        "id": "FXsEI1TGbjau",
        "outputId": "cb52eccc-11b2-448a-8add-279bc0fbc8a4"
      },
      "execution_count": 27,
      "outputs": [
        {
          "output_type": "stream",
          "name": "stdout",
          "text": [
            "1부터 100까지의 합은 5050입니다.\n"
          ]
        }
      ]
    },
    {
      "cell_type": "code",
      "source": [
        "# 2중 for문\n",
        "\n",
        "for x in range(2, 10) :\n",
        "  for y in range(1,10) :\n",
        "    print(x , \"*\", y, \"=\", x*y, end=\" \")\n",
        "  print(\"\")"
      ],
      "metadata": {
        "colab": {
          "base_uri": "https://localhost:8080/"
        },
        "id": "zFlapCT_iZAS",
        "outputId": "4a21f9c1-6ee8-44a2-d7b9-91b1ad3700e9"
      },
      "execution_count": 32,
      "outputs": [
        {
          "output_type": "stream",
          "name": "stdout",
          "text": [
            "2 * 1 = 2 2 * 2 = 4 2 * 3 = 6 2 * 4 = 8 2 * 5 = 10 2 * 6 = 12 2 * 7 = 14 2 * 8 = 16 2 * 9 = 18 \n",
            "3 * 1 = 3 3 * 2 = 6 3 * 3 = 9 3 * 4 = 12 3 * 5 = 15 3 * 6 = 18 3 * 7 = 21 3 * 8 = 24 3 * 9 = 27 \n",
            "4 * 1 = 4 4 * 2 = 8 4 * 3 = 12 4 * 4 = 16 4 * 5 = 20 4 * 6 = 24 4 * 7 = 28 4 * 8 = 32 4 * 9 = 36 \n",
            "5 * 1 = 5 5 * 2 = 10 5 * 3 = 15 5 * 4 = 20 5 * 5 = 25 5 * 6 = 30 5 * 7 = 35 5 * 8 = 40 5 * 9 = 45 \n",
            "6 * 1 = 6 6 * 2 = 12 6 * 3 = 18 6 * 4 = 24 6 * 5 = 30 6 * 6 = 36 6 * 7 = 42 6 * 8 = 48 6 * 9 = 54 \n",
            "7 * 1 = 7 7 * 2 = 14 7 * 3 = 21 7 * 4 = 28 7 * 5 = 35 7 * 6 = 42 7 * 7 = 49 7 * 8 = 56 7 * 9 = 63 \n",
            "8 * 1 = 8 8 * 2 = 16 8 * 3 = 24 8 * 4 = 32 8 * 5 = 40 8 * 6 = 48 8 * 7 = 56 8 * 8 = 64 8 * 9 = 72 \n",
            "9 * 1 = 9 9 * 2 = 18 9 * 3 = 27 9 * 4 = 36 9 * 5 = 45 9 * 6 = 54 9 * 7 = 63 9 * 8 = 72 9 * 9 = 81 \n"
          ]
        }
      ]
    },
    {
      "cell_type": "code",
      "source": [
        "for i in range(1, 10) :\n",
        "  for j in range(1,10) :\n",
        "    print(f\"{i} x {j} = {i*j:2}\", end=\"  \")\n",
        "  print()"
      ],
      "metadata": {
        "colab": {
          "base_uri": "https://localhost:8080/"
        },
        "id": "tWPkawsNjdXJ",
        "outputId": "587a221f-9cf1-4624-9743-b93d2177bdc3"
      },
      "execution_count": 29,
      "outputs": [
        {
          "output_type": "stream",
          "name": "stdout",
          "text": [
            "2 x 1 =  2  2 x 2 =  4  2 x 3 =  6  2 x 4 =  8  2 x 5 = 10  2 x 6 = 12  2 x 7 = 14  2 x 8 = 16  2 x 9 = 18  \n",
            "3 x 1 =  3  3 x 2 =  6  3 x 3 =  9  3 x 4 = 12  3 x 5 = 15  3 x 6 = 18  3 x 7 = 21  3 x 8 = 24  3 x 9 = 27  \n",
            "4 x 1 =  4  4 x 2 =  8  4 x 3 = 12  4 x 4 = 16  4 x 5 = 20  4 x 6 = 24  4 x 7 = 28  4 x 8 = 32  4 x 9 = 36  \n",
            "5 x 1 =  5  5 x 2 = 10  5 x 3 = 15  5 x 4 = 20  5 x 5 = 25  5 x 6 = 30  5 x 7 = 35  5 x 8 = 40  5 x 9 = 45  \n",
            "6 x 1 =  6  6 x 2 = 12  6 x 3 = 18  6 x 4 = 24  6 x 5 = 30  6 x 6 = 36  6 x 7 = 42  6 x 8 = 48  6 x 9 = 54  \n",
            "7 x 1 =  7  7 x 2 = 14  7 x 3 = 21  7 x 4 = 28  7 x 5 = 35  7 x 6 = 42  7 x 7 = 49  7 x 8 = 56  7 x 9 = 63  \n",
            "8 x 1 =  8  8 x 2 = 16  8 x 3 = 24  8 x 4 = 32  8 x 5 = 40  8 x 6 = 48  8 x 7 = 56  8 x 8 = 64  8 x 9 = 72  \n",
            "9 x 1 =  9  9 x 2 = 18  9 x 3 = 27  9 x 4 = 36  9 x 5 = 45  9 x 6 = 54  9 x 7 = 63  9 x 8 = 72  9 x 9 = 81  \n"
          ]
        }
      ]
    },
    {
      "cell_type": "code",
      "source": [
        "def print_multiplictaion_table(n):\n",
        "  for i in range(1,10):\n",
        "    print(n, \"x\", i, \"=\", n*i, end=\"\\t\")\n",
        "  print()\n",
        "\n",
        "for i in range(2, 10):\n",
        "  print(\"***\", i, \"단 ***\")\n",
        "  print_multiplictaion_table(i)"
      ],
      "metadata": {
        "colab": {
          "base_uri": "https://localhost:8080/"
        },
        "id": "q9Ddi9_njsTZ",
        "outputId": "87875d36-d1d6-4ecc-9640-12832f4f27d5"
      },
      "execution_count": 31,
      "outputs": [
        {
          "output_type": "stream",
          "name": "stdout",
          "text": [
            "*** 2 단 ***\n",
            "2 x 1 = 2\t2 x 2 = 4\t2 x 3 = 6\t2 x 4 = 8\t2 x 5 = 10\t2 x 6 = 12\t2 x 7 = 14\t2 x 8 = 16\t2 x 9 = 18\t\n",
            "*** 3 단 ***\n",
            "3 x 1 = 3\t3 x 2 = 6\t3 x 3 = 9\t3 x 4 = 12\t3 x 5 = 15\t3 x 6 = 18\t3 x 7 = 21\t3 x 8 = 24\t3 x 9 = 27\t\n",
            "*** 4 단 ***\n",
            "4 x 1 = 4\t4 x 2 = 8\t4 x 3 = 12\t4 x 4 = 16\t4 x 5 = 20\t4 x 6 = 24\t4 x 7 = 28\t4 x 8 = 32\t4 x 9 = 36\t\n",
            "*** 5 단 ***\n",
            "5 x 1 = 5\t5 x 2 = 10\t5 x 3 = 15\t5 x 4 = 20\t5 x 5 = 25\t5 x 6 = 30\t5 x 7 = 35\t5 x 8 = 40\t5 x 9 = 45\t\n",
            "*** 6 단 ***\n",
            "6 x 1 = 6\t6 x 2 = 12\t6 x 3 = 18\t6 x 4 = 24\t6 x 5 = 30\t6 x 6 = 36\t6 x 7 = 42\t6 x 8 = 48\t6 x 9 = 54\t\n",
            "*** 7 단 ***\n",
            "7 x 1 = 7\t7 x 2 = 14\t7 x 3 = 21\t7 x 4 = 28\t7 x 5 = 35\t7 x 6 = 42\t7 x 7 = 49\t7 x 8 = 56\t7 x 9 = 63\t\n",
            "*** 8 단 ***\n",
            "8 x 1 = 8\t8 x 2 = 16\t8 x 3 = 24\t8 x 4 = 32\t8 x 5 = 40\t8 x 6 = 48\t8 x 7 = 56\t8 x 8 = 64\t8 x 9 = 72\t\n",
            "*** 9 단 ***\n",
            "9 x 1 = 9\t9 x 2 = 18\t9 x 3 = 27\t9 x 4 = 36\t9 x 5 = 45\t9 x 6 = 54\t9 x 7 = 63\t9 x 8 = 72\t9 x 9 = 81\t\n"
          ]
        }
      ]
    },
    {
      "cell_type": "code",
      "source": [
        "# While\n",
        "\n",
        "# while 조건식 :\n",
        "#     수행시킬 구문\n",
        "\n",
        "while True :\n",
        "  print(\"hi\")"
      ],
      "metadata": {
        "id": "nDoymu--kx5e"
      },
      "execution_count": null,
      "outputs": []
    },
    {
      "cell_type": "code",
      "source": [
        "i = 10\n",
        "while i > 5 :\n",
        "  print('hi')\n",
        "  i -= 1 # 파이썬은 자바처럼 i++ 즉 증감 연산자는 사용하지 않는다. i = i + 1\n"
      ],
      "metadata": {
        "colab": {
          "base_uri": "https://localhost:8080/"
        },
        "id": "uOd-JSRMlKB1",
        "outputId": "c110e112-59cc-4d15-dea9-a527fa3faa6d"
      },
      "execution_count": 33,
      "outputs": [
        {
          "output_type": "stream",
          "name": "stdout",
          "text": [
            "hi\n",
            "hi\n",
            "hi\n",
            "hi\n",
            "hi\n"
          ]
        }
      ]
    },
    {
      "cell_type": "code",
      "source": [
        "import random\n",
        "\n",
        "temp_no = 0\n",
        "while temp_no != 3 : # 3이 나올때까지 반복하여 난수 발생\n",
        "  temp_no = random.randint(1,6) # 끝 숫자 6도 포함된다. 미만이 아닌 이하\n",
        "  \n",
        "  print(f'발생된 난수는 {temp_no}입니다.')"
      ],
      "metadata": {
        "colab": {
          "base_uri": "https://localhost:8080/"
        },
        "id": "q3j5U-OsmMFO",
        "outputId": "238066dc-f2e1-45a2-d377-85d037c72f7a"
      },
      "execution_count": 35,
      "outputs": [
        {
          "output_type": "stream",
          "name": "stdout",
          "text": [
            "발생된 난수는 1입니다.\n",
            "발생된 난수는 6입니다.\n",
            "발생된 난수는 5입니다.\n",
            "발생된 난수는 1입니다.\n",
            "발생된 난수는 1입니다.\n",
            "발생된 난수는 2입니다.\n",
            "발생된 난수는 1입니다.\n",
            "발생된 난수는 1입니다.\n",
            "발생된 난수는 6입니다.\n",
            "발생된 난수는 3입니다.\n"
          ]
        }
      ]
    },
    {
      "cell_type": "code",
      "source": [
        "# 난수 발생 정리\n",
        "\n",
        "import random # random 모듈 임포트 후 사용\n",
        "random.random() # 0 에서 1미만 실수 float으로 생성"
      ],
      "metadata": {
        "colab": {
          "base_uri": "https://localhost:8080/"
        },
        "id": "6h0ga9BbohKW",
        "outputId": "217a8b30-58f2-4549-92a2-847c9d2d8268"
      },
      "execution_count": 36,
      "outputs": [
        {
          "output_type": "execute_result",
          "data": {
            "text/plain": [
              "0.9009210347661767"
            ]
          },
          "metadata": {},
          "execution_count": 36
        }
      ]
    },
    {
      "cell_type": "code",
      "source": [
        "random.randint(1, 10) # 1에서 10이하의 정수 하나 생성"
      ],
      "metadata": {
        "colab": {
          "base_uri": "https://localhost:8080/"
        },
        "id": "LyQQMVHkonAi",
        "outputId": "34bb42a7-1947-4a9f-a201-9922a66681a3"
      },
      "execution_count": 37,
      "outputs": [
        {
          "output_type": "execute_result",
          "data": {
            "text/plain": [
              "1"
            ]
          },
          "metadata": {},
          "execution_count": 37
        }
      ]
    },
    {
      "cell_type": "code",
      "source": [
        "random.randrange(0, 10, 2) # 0에서 10 미만 중 2의 배수로 난수 발생"
      ],
      "metadata": {
        "colab": {
          "base_uri": "https://localhost:8080/"
        },
        "id": "OLk-qayQopsq",
        "outputId": "96d7810d-6594-464d-95f4-567cdfb01955"
      },
      "execution_count": 38,
      "outputs": [
        {
          "output_type": "execute_result",
          "data": {
            "text/plain": [
              "6"
            ]
          },
          "metadata": {},
          "execution_count": 38
        }
      ]
    },
    {
      "cell_type": "code",
      "source": [
        "random.choice(['봄','여름','가을','겨울']) #리스트의 값들 중 하나를 임의로 선택"
      ],
      "metadata": {
        "colab": {
          "base_uri": "https://localhost:8080/",
          "height": 36
        },
        "id": "2bnkBxo1ou55",
        "outputId": "6fa8a44e-18c2-4604-814d-c709d3e9bb57"
      },
      "execution_count": 39,
      "outputs": [
        {
          "output_type": "execute_result",
          "data": {
            "text/plain": [
              "'봄'"
            ],
            "application/vnd.google.colaboratory.intrinsic+json": {
              "type": "string"
            }
          },
          "metadata": {},
          "execution_count": 39
        }
      ]
    },
    {
      "cell_type": "code",
      "source": [
        "random.sample(range(1,46), 6) # range 범위 중 임의의 개수 추출"
      ],
      "metadata": {
        "colab": {
          "base_uri": "https://localhost:8080/"
        },
        "id": "yhFIayeKo0ee",
        "outputId": "ff5497c6-6b55-4029-dfa7-51ec44d155d3"
      },
      "execution_count": 40,
      "outputs": [
        {
          "output_type": "execute_result",
          "data": {
            "text/plain": [
              "[40, 16, 39, 12, 7, 10]"
            ]
          },
          "metadata": {},
          "execution_count": 40
        }
      ]
    },
    {
      "cell_type": "code",
      "source": [
        "list1 = [1,2,3,4,5]\n",
        "\n",
        "random.shuffle(list1)\n",
        "\n",
        "print(list1)"
      ],
      "metadata": {
        "colab": {
          "base_uri": "https://localhost:8080/"
        },
        "id": "M8XhJIX3phwv",
        "outputId": "2928b34b-f380-4aab-ceaa-d88872bf7f57"
      },
      "execution_count": 41,
      "outputs": [
        {
          "output_type": "stream",
          "name": "stdout",
          "text": [
            "[1, 3, 2, 4, 5]\n"
          ]
        }
      ]
    },
    {
      "cell_type": "code",
      "source": [
        "# break 강제로 빠져나가기 \n",
        "# continue continue 하단의 내용은 건너뛰고 다시 반복문으로 들어가기\n",
        "\n",
        "i = 0\n",
        "\n",
        "while i < 10:\n",
        "  i += 1\n",
        "  if i % 2 == 0 :\n",
        "    print(i)"
      ],
      "metadata": {
        "colab": {
          "base_uri": "https://localhost:8080/"
        },
        "id": "pqamf1rrqeRi",
        "outputId": "1785a150-08f0-4788-c483-b5fff210c307"
      },
      "execution_count": 44,
      "outputs": [
        {
          "output_type": "stream",
          "name": "stdout",
          "text": [
            "2\n",
            "4\n",
            "6\n",
            "8\n",
            "10\n"
          ]
        }
      ]
    },
    {
      "cell_type": "code",
      "source": [
        "i = 0\n",
        "while i < 10:\n",
        "  i += 1\n",
        "  if i % 2 == 0 :\n",
        "    continue\n",
        "  print(i)"
      ],
      "metadata": {
        "colab": {
          "base_uri": "https://localhost:8080/"
        },
        "id": "y6ugC_3lrbWd",
        "outputId": "e249b202-97d2-4548-b509-478b1ef2e3b4"
      },
      "execution_count": 47,
      "outputs": [
        {
          "output_type": "stream",
          "name": "stdout",
          "text": [
            "1\n",
            "3\n",
            "5\n",
            "7\n",
            "9\n"
          ]
        }
      ]
    },
    {
      "cell_type": "code",
      "source": [
        "i = 0\n",
        "while True:\n",
        "  i += 1\n",
        "  if i == 10 :\n",
        "    break\n",
        "  print(i)"
      ],
      "metadata": {
        "colab": {
          "base_uri": "https://localhost:8080/"
        },
        "id": "KIi-O18So42h",
        "outputId": "fd2d933e-be1f-4657-face-548d0009c3e4"
      },
      "execution_count": 48,
      "outputs": [
        {
          "output_type": "stream",
          "name": "stdout",
          "text": [
            "1\n",
            "2\n",
            "3\n",
            "4\n",
            "5\n",
            "6\n",
            "7\n",
            "8\n",
            "9\n"
          ]
        }
      ]
    }
  ]
}
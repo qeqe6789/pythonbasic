{
  "nbformat": 4,
  "nbformat_minor": 0,
  "metadata": {
    "colab": {
      "provenance": [],
      "authorship_tag": "ABX9TyPt4CIRlu2ZivBU+Bc/wWLN",
      "include_colab_link": true
    },
    "kernelspec": {
      "name": "python3",
      "display_name": "Python 3"
    },
    "language_info": {
      "name": "python"
    }
  },
  "cells": [
    {
      "cell_type": "markdown",
      "metadata": {
        "id": "view-in-github",
        "colab_type": "text"
      },
      "source": [
        "<a href=\"https://colab.research.google.com/github/qeqe6789/pythonbasic/blob/main/PythonDay4.ipynb\" target=\"_parent\"><img src=\"https://colab.research.google.com/assets/colab-badge.svg\" alt=\"Open In Colab\"/></a>"
      ]
    },
    {
      "cell_type": "code",
      "execution_count": null,
      "metadata": {
        "colab": {
          "base_uri": "https://localhost:8080/"
        },
        "id": "F-57V8iVQlfx",
        "outputId": "3f5efe2d-5af3-44ff-fcb3-0423b63ef0e4"
      },
      "outputs": [
        {
          "output_type": "stream",
          "name": "stdout",
          "text": [
            "시간을 입력해주세요. ex)11:00\n",
            "02:10\n",
            "02:10 정각이 아닙니다.\n"
          ]
        }
      ],
      "source": [
        "# IF\n",
        "# 1. 사용자로부터 입력 받은 시간이 정각인지를 판별하세요\n",
        "# 2:00 정각입니다.\n",
        "# 02:10 정각이 아닙니다.\n",
        "# 11:23 정각이 아닙니다.\n",
        "\n",
        "# Hint - 항상 정각은 끝에 두자리가 00으로 끝난다.\n",
        "\n",
        "time = input(\"시간을 입력해주세요. > \")\n",
        "\n",
        "if time[-2:] == \"00\" :\n",
        "  print(f'{time} 정각입니다.')\n",
        "else :\n",
        "  print(f'{time} 정각이 아닙니다.')\n"
      ]
    },
    {
      "cell_type": "code",
      "source": [
        "warn_investment_list = [\"Microsoft\", \"Google\", \"Naver\", \"Kakao\", \"SAMSUNG\", \"LG\"]\n",
        "\n",
        "user_investement = input('종목명을 입력해주세요. > ')\n",
        "\n",
        "if user_investement in warn_investment_list :\n",
        "  print('투자 경고 종목입니다.')\n",
        "else :\n",
        "  print('투자 경고 종목이 아닙니다.')"
      ],
      "metadata": {
        "colab": {
          "base_uri": "https://localhost:8080/"
        },
        "id": "vvdLtyl6TDpp",
        "outputId": "f76e2451-d04b-4007-f54f-dd705d4d01f6"
      },
      "execution_count": null,
      "outputs": [
        {
          "output_type": "stream",
          "name": "stdout",
          "text": [
            "종목명을 입력해주세요. > Google\n",
            "투자 경고 종목입니다.\n"
          ]
        }
      ]
    },
    {
      "cell_type": "code",
      "source": [
        "word = input(\">> \")\n",
        "\n",
        "if word.isupper() :\n",
        "  print(word.lower())\n",
        "else :\n",
        "  print(word.upper())"
      ],
      "metadata": {
        "colab": {
          "base_uri": "https://localhost:8080/"
        },
        "id": "nRf3MkTbUigf",
        "outputId": "b86b87fd-419a-4305-bfea-a7ded5a3743c"
      },
      "execution_count": 10,
      "outputs": [
        {
          "output_type": "stream",
          "name": "stdout",
          "text": [
            ">> SAMSUNG\n",
            "samsung\n"
          ]
        }
      ]
    },
    {
      "cell_type": "code",
      "source": [
        "score = int(input('점수를 입력해주세요. > '))\n",
        "\n",
        "if score >= 90 :\n",
        "  grade = 'A'\n",
        "elif score >= 80 :\n",
        "  grade = 'B'\n",
        "elif score >= 70 :\n",
        "  grade = 'C'\n",
        "elif score >= 60 :\n",
        "  grade = 'D'\n",
        "else :\n",
        "  grade = 'F'\n",
        "\n",
        "if score % 10 >= 7 :\n",
        "  grade2 = '+'\n",
        "elif score % 10 >= 4 :\n",
        "  grade2 = '0'\n",
        "elif score % 10 >= 0 :\n",
        "  grade2 = '-'\n",
        "\n",
        "if grade == 'F' :\n",
        "  grade3 = grade\n",
        "elif score == 100 :\n",
        "  grade3 = grade + '+'\n",
        "else :\n",
        "  grade3 = grade + grade2\n",
        "\n",
        "print(f'입력하신 학생의 학점은 {grade3}입니다.')"
      ],
      "metadata": {
        "colab": {
          "base_uri": "https://localhost:8080/"
        },
        "id": "0_YAL1MaYGBb",
        "outputId": "f86b7605-8833-4c46-953e-d82c33eb4b4e"
      },
      "execution_count": 16,
      "outputs": [
        {
          "output_type": "stream",
          "name": "stdout",
          "text": [
            "점수를 입력해주세요. > 100\n",
            "입력하신 학생의 학점은 A+입니다.\n"
          ]
        }
      ]
    },
    {
      "cell_type": "code",
      "source": [
        "list = [3, -20, -3, 44]\n",
        "\n",
        "for i in list :\n",
        "  if i < 0 :\n",
        "    print(i, end = \" \")"
      ],
      "metadata": {
        "colab": {
          "base_uri": "https://localhost:8080/"
        },
        "id": "vLUMFBfed9Om",
        "outputId": "0d537db5-eeba-4d78-8624-7ec16a0d4826"
      },
      "execution_count": 17,
      "outputs": [
        {
          "output_type": "stream",
          "name": "stdout",
          "text": [
            "-20 -3 "
          ]
        }
      ]
    },
    {
      "cell_type": "code",
      "source": [
        "list = [3, 100, 23, 44, 6, 9]\n",
        "\n",
        "for i in list :\n",
        "  if i % 3 == 0 :\n",
        "    print(i, end = \" \")"
      ],
      "metadata": {
        "colab": {
          "base_uri": "https://localhost:8080/"
        },
        "id": "25mCxDq3fHi1",
        "outputId": "24bd6bdc-d3bf-4d23-d701-a7b079d4242c"
      },
      "execution_count": 19,
      "outputs": [
        {
          "output_type": "stream",
          "name": "stdout",
          "text": [
            "3 6 9 "
          ]
        }
      ]
    },
    {
      "cell_type": "code",
      "source": [
        "list = [\"I\", \"study\", \"python\", \"language\", \"!\"]\n",
        "\n",
        "for i in list :\n",
        "\tif len(i) >= 3 :\n",
        "\t\tprint(i, end = \" \")"
      ],
      "metadata": {
        "id": "ndi0_Ke9R3P2",
        "colab": {
          "base_uri": "https://localhost:8080/"
        },
        "outputId": "a6b466a0-26d7-4653-8f95-2247eb445698"
      },
      "execution_count": 22,
      "outputs": [
        {
          "output_type": "stream",
          "name": "stdout",
          "text": [
            "study python language "
          ]
        }
      ]
    },
    {
      "cell_type": "code",
      "source": [
        "list = [\"A\", \"b\", \"c\", \"D\"]\n",
        "\n",
        "for i in list :\n",
        "\tif i.isupper() :\n",
        "\t\tprint(i, end = \" \")"
      ],
      "metadata": {
        "colab": {
          "base_uri": "https://localhost:8080/"
        },
        "id": "SoTUbshygXlT",
        "outputId": "98c0a7d8-bec9-4e9f-bc95-d507997f0e63"
      },
      "execution_count": 23,
      "outputs": [
        {
          "output_type": "stream",
          "name": "stdout",
          "text": [
            "A D "
          ]
        }
      ]
    },
    {
      "cell_type": "code",
      "source": [
        "list = ['dog', 'cat', 'parrot']\n",
        "\n",
        "for i in list :\n",
        "  print(i[0].upper() + i[1:])"
      ],
      "metadata": {
        "colab": {
          "base_uri": "https://localhost:8080/"
        },
        "id": "Ycl5BaBwgp8E",
        "outputId": "80253147-b512-482a-c0a3-6f4be11fe4fa"
      },
      "execution_count": 32,
      "outputs": [
        {
          "output_type": "stream",
          "name": "stdout",
          "text": [
            "Dog\n",
            "Cat\n",
            "Parrot\n"
          ]
        }
      ]
    },
    {
      "cell_type": "code",
      "source": [
        "list = ['hello.py', 'ex01.py', 'intro.hwp']\n",
        "\n",
        "for i in list :\n",
        "  print(i.split('.')[0])"
      ],
      "metadata": {
        "colab": {
          "base_uri": "https://localhost:8080/"
        },
        "id": "pHjjP1Ili0gl",
        "outputId": "b4367b7e-3044-4a07-9e89-67f06969a73f"
      },
      "execution_count": 35,
      "outputs": [
        {
          "output_type": "stream",
          "name": "stdout",
          "text": [
            "hello\n",
            "ex01\n",
            "intro\n"
          ]
        }
      ]
    },
    {
      "cell_type": "code",
      "source": [
        "sum = 0\n",
        "for i in range(11) :\n",
        "  if i % 2 == 1:\n",
        "    sum = sum + i\n",
        "print(sum)"
      ],
      "metadata": {
        "colab": {
          "base_uri": "https://localhost:8080/"
        },
        "id": "2hYPJaNckY-y",
        "outputId": "d1106cf0-f6d9-45c4-d1e2-e2c315e90976"
      },
      "execution_count": 39,
      "outputs": [
        {
          "output_type": "stream",
          "name": "stdout",
          "text": [
            "25\n"
          ]
        }
      ]
    },
    {
      "cell_type": "code",
      "source": [
        "my_list = [\"가\", \"나\", \"다\", \"라\"]\n",
        "\n",
        "for i in range(len(my_list)-1, 0, -1) :\n",
        "  print(f'{my_list[i]} {my_list[i-1]}')"
      ],
      "metadata": {
        "colab": {
          "base_uri": "https://localhost:8080/"
        },
        "id": "bSOI3fM3k6vc",
        "outputId": "e9597c2e-b1e1-4fc8-db9b-a81805843af4"
      },
      "execution_count": 45,
      "outputs": [
        {
          "output_type": "stream",
          "name": "stdout",
          "text": [
            "라 다\n",
            "다 나\n",
            "나 가\n"
          ]
        }
      ]
    },
    {
      "cell_type": "code",
      "source": [
        "ohlc = [[\"open\", \"high\", \"low\", \"close\"],\n",
        "        [100, 110, 70, 100],\n",
        "        [200, 210, 180, 190],\n",
        "        [300, 310, 300, 310]]\n",
        "\n",
        "for i in range(1, len(ohlc)) :\n",
        "  print(ohlc[i][-1], end = \" \")"
      ],
      "metadata": {
        "colab": {
          "base_uri": "https://localhost:8080/"
        },
        "id": "v3myIwJ4n7OE",
        "outputId": "2aed88a7-eb9e-402a-e96d-e6e5612116fb"
      },
      "execution_count": 52,
      "outputs": [
        {
          "output_type": "stream",
          "name": "stdout",
          "text": [
            "100 190 310 "
          ]
        }
      ]
    },
    {
      "cell_type": "code",
      "source": [
        "total = 0\n",
        "\n",
        "while total <= 50 :\n",
        "  total += int(input('숫자를 입력해주세요 > '))\n",
        "  print(f'합계는 {total}입니다.')"
      ],
      "metadata": {
        "colab": {
          "base_uri": "https://localhost:8080/"
        },
        "id": "8asdEd8nry-x",
        "outputId": "d7a1bf29-8870-4290-ee1a-bbfa132929d4"
      },
      "execution_count": 55,
      "outputs": [
        {
          "output_type": "stream",
          "name": "stdout",
          "text": [
            "숫자를 입력해주세요 > 30\n",
            "합계는 30입니다.\n",
            "숫자를 입력해주세요 > 20\n",
            "합계는 50입니다.\n",
            "숫자를 입력해주세요 > 10\n",
            "합계는 60입니다.\n"
          ]
        }
      ]
    },
    {
      "cell_type": "code",
      "source": [
        "number = 0\n",
        "\n",
        "while number <= 5 :\n",
        "  number = int(input('숫자를 입력해주세요. > '))\n",
        "print(f'마지막으로 입력한 번호가 {number}였습니다.')"
      ],
      "metadata": {
        "colab": {
          "base_uri": "https://localhost:8080/"
        },
        "id": "u7ZPPoVUuEPJ",
        "outputId": "cc1c4731-db10-4a3d-87c1-85f8e314e870"
      },
      "execution_count": 57,
      "outputs": [
        {
          "output_type": "stream",
          "name": "stdout",
          "text": [
            "숫자를 입력해주세요. > 3\n",
            "숫자를 입력해주세요. > 2\n",
            "숫자를 입력해주세요. > 5\n",
            "숫자를 입력해주세요. > 6\n",
            "마지막으로 입력한 번호가 6였습니다.\n"
          ]
        }
      ]
    },
    {
      "cell_type": "code",
      "source": [
        "number = 0 \n",
        "\n",
        "while number < 10 or number > 20 :\n",
        "  number = int(input('10~ 20 숫자를 입력해주세요. > '))\n",
        "  if number < 10 :\n",
        "    print(\"Too low\")\n",
        "  elif number > 20 : \n",
        "    print(\"Too high\")\n",
        "print(\"Thank you\")"
      ],
      "metadata": {
        "colab": {
          "base_uri": "https://localhost:8080/"
        },
        "id": "4GUyCZh5venX",
        "outputId": "e5ec215a-57d6-49e1-fb6d-6ae5cee70980"
      },
      "execution_count": 58,
      "outputs": [
        {
          "output_type": "stream",
          "name": "stdout",
          "text": [
            "10~ 20 숫자를 입력해주세요. > 3\n",
            "Too low\n",
            "10~ 20 숫자를 입력해주세요. > 18\n",
            "Thank you\n"
          ]
        }
      ]
    },
    {
      "cell_type": "code",
      "source": [
        "import random\n",
        "\n",
        "compnum = random.randrange(1, 101)\n",
        "user = 0\n",
        "count = 0\n",
        "\n",
        "while user != compnum :\n",
        "  user = int(input('숫자를 입력해주세요 > '))\n",
        "  count += 1\n",
        "  if user < compnum :\n",
        "    print(\"Too low\")\n",
        "  elif user > compnum :\n",
        "    print(\"Too high\")\n",
        "print(f\"잘했습니다. {count}회 실행하였습니다.\")"
      ],
      "metadata": {
        "colab": {
          "base_uri": "https://localhost:8080/"
        },
        "id": "U6YwXOHRwTRw",
        "outputId": "a6adb850-8a8f-4441-908a-20013b67f99e"
      },
      "execution_count": 60,
      "outputs": [
        {
          "output_type": "stream",
          "name": "stdout",
          "text": [
            "숫자를 입력해주세요 > 5\n",
            "Too low\n",
            "숫자를 입력해주세요 > 50\n",
            "Too high\n",
            "숫자를 입력해주세요 > 25\n",
            "Too low\n",
            "숫자를 입력해주세요 > 40\n",
            "Too high\n",
            "숫자를 입력해주세요 > 35\n",
            "Too high\n",
            "숫자를 입력해주세요 > 30\n",
            "Too low\n",
            "숫자를 입력해주세요 > 32\n",
            "Too high\n",
            "숫자를 입력해주세요 > 31\n",
            "잘했습니다. 8회 실행하였습니다.\n"
          ]
        }
      ]
    },
    {
      "cell_type": "code",
      "source": [
        "num = 10\n",
        "\n",
        "print(f\"There are {num} green bottles hanging on the wall, {num} green bottles hanging on the wall, and if 1 green bottle sould accidentally fall.\")\n",
        "num -= 1\n",
        "while num >= 0:\n",
        "  bottle = int(input(\"How many green bottles will be hanging on the wall? > \"))\n",
        "  if num == bottle :\n",
        "    print(f\"There will be {num} green bottles hanging on the wall\")\n",
        "  else :\n",
        "    print(\"No, try again\")\n",
        "    continue\n",
        "  print(f\"There are {num} green bottles hanging on the wall, {num} green bottles hanging on the wall, and if 1 green bottle sould accidentally fall.\")\n",
        "  num -= 1\n",
        "print(\"There are no more green bottles hanging on the wall\")"
      ],
      "metadata": {
        "colab": {
          "base_uri": "https://localhost:8080/",
          "height": 630
        },
        "id": "-fAbtcE7y9FR",
        "outputId": "2e50acbe-35d6-42a2-e52e-297c58b9f938"
      },
      "execution_count": 66,
      "outputs": [
        {
          "output_type": "stream",
          "name": "stdout",
          "text": [
            "There are 10 green bottles hanging on the wall, 10 green bottles hanging on the wall, and if 1 green bottle sould accidentally fall.\n",
            "How many green bottles will be hanging on the wall? > 10\n",
            "No, try again\n",
            "How many green bottles will be hanging on the wall? > 8\n",
            "No, try again\n",
            "How many green bottles will be hanging on the wall? > 7\n",
            "No, try again\n",
            "How many green bottles will be hanging on the wall? > 6\n",
            "No, try again\n",
            "How many green bottles will be hanging on the wall? > 9\n",
            "There will be 9 green bottles hanging on the wall\n",
            "There are 9 green bottles hanging on the wall, 9 green bottles hanging on the wall, and if 1 green bottle sould accidentally fall.\n"
          ]
        },
        {
          "output_type": "error",
          "ename": "KeyboardInterrupt",
          "evalue": "ignored",
          "traceback": [
            "\u001b[0;31m---------------------------------------------------------------------------\u001b[0m",
            "\u001b[0;31mKeyboardInterrupt\u001b[0m                         Traceback (most recent call last)",
            "\u001b[0;32m<ipython-input-66-fb722404d027>\u001b[0m in \u001b[0;36m<module>\u001b[0;34m\u001b[0m\n\u001b[1;32m      4\u001b[0m \u001b[0mnum\u001b[0m \u001b[0;34m-=\u001b[0m \u001b[0;36m1\u001b[0m\u001b[0;34m\u001b[0m\u001b[0;34m\u001b[0m\u001b[0m\n\u001b[1;32m      5\u001b[0m \u001b[0;32mwhile\u001b[0m \u001b[0mnum\u001b[0m \u001b[0;34m>=\u001b[0m \u001b[0;36m0\u001b[0m\u001b[0;34m:\u001b[0m\u001b[0;34m\u001b[0m\u001b[0;34m\u001b[0m\u001b[0m\n\u001b[0;32m----> 6\u001b[0;31m   \u001b[0mbottle\u001b[0m \u001b[0;34m=\u001b[0m \u001b[0mint\u001b[0m\u001b[0;34m(\u001b[0m\u001b[0minput\u001b[0m\u001b[0;34m(\u001b[0m\u001b[0;34m\"How many green bottles will be hanging on the wall? > \"\u001b[0m\u001b[0;34m)\u001b[0m\u001b[0;34m)\u001b[0m\u001b[0;34m\u001b[0m\u001b[0;34m\u001b[0m\u001b[0m\n\u001b[0m\u001b[1;32m      7\u001b[0m   \u001b[0;32mif\u001b[0m \u001b[0mnum\u001b[0m \u001b[0;34m==\u001b[0m \u001b[0mbottle\u001b[0m \u001b[0;34m:\u001b[0m\u001b[0;34m\u001b[0m\u001b[0;34m\u001b[0m\u001b[0m\n\u001b[1;32m      8\u001b[0m     \u001b[0mprint\u001b[0m\u001b[0;34m(\u001b[0m\u001b[0;34mf\"There will be {num} green bottles hanging on the wall\"\u001b[0m\u001b[0;34m)\u001b[0m\u001b[0;34m\u001b[0m\u001b[0;34m\u001b[0m\u001b[0m\n",
            "\u001b[0;32m/usr/local/lib/python3.8/dist-packages/ipykernel/kernelbase.py\u001b[0m in \u001b[0;36mraw_input\u001b[0;34m(self, prompt)\u001b[0m\n\u001b[1;32m    858\u001b[0m                 \u001b[0;34m\"raw_input was called, but this frontend does not support input requests.\"\u001b[0m\u001b[0;34m\u001b[0m\u001b[0;34m\u001b[0m\u001b[0m\n\u001b[1;32m    859\u001b[0m             )\n\u001b[0;32m--> 860\u001b[0;31m         return self._input_request(str(prompt),\n\u001b[0m\u001b[1;32m    861\u001b[0m             \u001b[0mself\u001b[0m\u001b[0;34m.\u001b[0m\u001b[0m_parent_ident\u001b[0m\u001b[0;34m,\u001b[0m\u001b[0;34m\u001b[0m\u001b[0;34m\u001b[0m\u001b[0m\n\u001b[1;32m    862\u001b[0m             \u001b[0mself\u001b[0m\u001b[0;34m.\u001b[0m\u001b[0m_parent_header\u001b[0m\u001b[0;34m,\u001b[0m\u001b[0;34m\u001b[0m\u001b[0;34m\u001b[0m\u001b[0m\n",
            "\u001b[0;32m/usr/local/lib/python3.8/dist-packages/ipykernel/kernelbase.py\u001b[0m in \u001b[0;36m_input_request\u001b[0;34m(self, prompt, ident, parent, password)\u001b[0m\n\u001b[1;32m    902\u001b[0m             \u001b[0;32mexcept\u001b[0m \u001b[0mKeyboardInterrupt\u001b[0m\u001b[0;34m:\u001b[0m\u001b[0;34m\u001b[0m\u001b[0;34m\u001b[0m\u001b[0m\n\u001b[1;32m    903\u001b[0m                 \u001b[0;31m# re-raise KeyboardInterrupt, to truncate traceback\u001b[0m\u001b[0;34m\u001b[0m\u001b[0;34m\u001b[0m\u001b[0;34m\u001b[0m\u001b[0m\n\u001b[0;32m--> 904\u001b[0;31m                 \u001b[0;32mraise\u001b[0m \u001b[0mKeyboardInterrupt\u001b[0m\u001b[0;34m(\u001b[0m\u001b[0;34m\"Interrupted by user\"\u001b[0m\u001b[0;34m)\u001b[0m \u001b[0;32mfrom\u001b[0m \u001b[0;32mNone\u001b[0m\u001b[0;34m\u001b[0m\u001b[0;34m\u001b[0m\u001b[0m\n\u001b[0m\u001b[1;32m    905\u001b[0m             \u001b[0;32mexcept\u001b[0m \u001b[0mException\u001b[0m \u001b[0;32mas\u001b[0m \u001b[0me\u001b[0m\u001b[0;34m:\u001b[0m\u001b[0;34m\u001b[0m\u001b[0;34m\u001b[0m\u001b[0m\n\u001b[1;32m    906\u001b[0m                 \u001b[0mself\u001b[0m\u001b[0;34m.\u001b[0m\u001b[0mlog\u001b[0m\u001b[0;34m.\u001b[0m\u001b[0mwarning\u001b[0m\u001b[0;34m(\u001b[0m\u001b[0;34m\"Invalid Message:\"\u001b[0m\u001b[0;34m,\u001b[0m \u001b[0mexc_info\u001b[0m\u001b[0;34m=\u001b[0m\u001b[0;32mTrue\u001b[0m\u001b[0;34m)\u001b[0m\u001b[0;34m\u001b[0m\u001b[0;34m\u001b[0m\u001b[0m\n",
            "\u001b[0;31mKeyboardInterrupt\u001b[0m: Interrupted by user"
          ]
        }
      ]
    }
  ]
}